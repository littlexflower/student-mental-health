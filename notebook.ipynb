{
 "cells": [
  {
   "cell_type": "markdown",
   "metadata": {},
   "source": [
    "# Analysing Students' Mental Health In Python\n",
    "In this notebook, we will perform exploratory data analysis on a dataset around mental health of domestic and international students. We will look at how social connectedness and cultural issues affect mental health. Finally, we will visualise the results of our analysis using the Python Plotly package."
   ]
  },
  {
   "cell_type": "markdown",
   "metadata": {},
   "source": [
    "## The Data\n",
    "\n",
    "This survey was conducted in 2018 at an international Japanese university and the associated study was published in 2019. It was approved by several ethical and regulatory boards.\n",
    "\n",
    "The study found that international students have a higher risk of mental health difficulties compared to the general population, and that social connectedness and acculturative stress are predictive of depression.\n",
    "\n",
    "Social connectedness: measure of belonging to a social group or network.\n",
    "\n",
    "Acculturative stress: stress associated with learning about and intergrating into a new culture.\n",
    "\n",
    "[See paper for more info, including data description.](https://www.mdpi.com/2306-5729/4/3/124/htm)"
   ]
  },
  {
   "cell_type": "markdown",
   "metadata": {},
   "source": [
    "### Load The Libraries"
   ]
  },
  {
   "cell_type": "code",
   "execution_count": 1,
   "metadata": {},
   "outputs": [],
   "source": [
    "# Import libraries\n",
    "import pandas as pd \n",
    "\n",
    "import plotly.express as px\n",
    "import plotly.graph_objects as go\n",
    "from plotly.subplots import make_subplots"
   ]
  },
  {
   "cell_type": "markdown",
   "metadata": {},
   "source": [
    "### Clean The Data\n",
    "\n",
    "Our data is in one table that includes all of the survey data. There are 50 fields and, according to the paper, 268 records. Each row is a student."
   ]
  },
  {
   "cell_type": "code",
   "execution_count": 2,
   "metadata": {},
   "outputs": [],
   "source": [
    "students = pd.read_csv('data.csv')"
   ]
  },
  {
   "cell_type": "code",
   "execution_count": 3,
   "metadata": {},
   "outputs": [
    {
     "data": {
      "text/plain": [
       "286"
      ]
     },
     "execution_count": 3,
     "metadata": {},
     "output_type": "execute_result"
    }
   ],
   "source": [
    "# Check the number of rows in the dataset\n",
    "students.shape[0]"
   ]
  },
  {
   "cell_type": "code",
   "execution_count": 4,
   "metadata": {},
   "outputs": [
    {
     "data": {
      "text/html": [
       "<div>\n",
       "<style scoped>\n",
       "    .dataframe tbody tr th:only-of-type {\n",
       "        vertical-align: middle;\n",
       "    }\n",
       "\n",
       "    .dataframe tbody tr th {\n",
       "        vertical-align: top;\n",
       "    }\n",
       "\n",
       "    .dataframe thead th {\n",
       "        text-align: right;\n",
       "    }\n",
       "</style>\n",
       "<table border=\"1\" class=\"dataframe\">\n",
       "  <thead>\n",
       "    <tr style=\"text-align: right;\">\n",
       "      <th></th>\n",
       "      <th>inter_dom</th>\n",
       "      <th>Region</th>\n",
       "      <th>Gender</th>\n",
       "      <th>Academic</th>\n",
       "      <th>Age</th>\n",
       "      <th>Age_cate</th>\n",
       "      <th>Stay</th>\n",
       "      <th>Stay_Cate</th>\n",
       "      <th>Japanese</th>\n",
       "      <th>Japanese_cate</th>\n",
       "      <th>...</th>\n",
       "      <th>Friends_bi</th>\n",
       "      <th>Parents_bi</th>\n",
       "      <th>Relative_bi</th>\n",
       "      <th>Professional_bi</th>\n",
       "      <th>Phone_bi</th>\n",
       "      <th>Doctor_bi</th>\n",
       "      <th>religion_bi</th>\n",
       "      <th>Alone_bi</th>\n",
       "      <th>Others_bi</th>\n",
       "      <th>Internet_bi</th>\n",
       "    </tr>\n",
       "  </thead>\n",
       "  <tbody>\n",
       "    <tr>\n",
       "      <th>0</th>\n",
       "      <td>Inter</td>\n",
       "      <td>SEA</td>\n",
       "      <td>Male</td>\n",
       "      <td>Grad</td>\n",
       "      <td>24.0</td>\n",
       "      <td>4.0</td>\n",
       "      <td>5.0</td>\n",
       "      <td>Long</td>\n",
       "      <td>3.0</td>\n",
       "      <td>Average</td>\n",
       "      <td>...</td>\n",
       "      <td>Yes</td>\n",
       "      <td>Yes</td>\n",
       "      <td>No</td>\n",
       "      <td>No</td>\n",
       "      <td>No</td>\n",
       "      <td>No</td>\n",
       "      <td>No</td>\n",
       "      <td>No</td>\n",
       "      <td>No</td>\n",
       "      <td>No</td>\n",
       "    </tr>\n",
       "    <tr>\n",
       "      <th>1</th>\n",
       "      <td>Inter</td>\n",
       "      <td>SEA</td>\n",
       "      <td>Male</td>\n",
       "      <td>Grad</td>\n",
       "      <td>28.0</td>\n",
       "      <td>5.0</td>\n",
       "      <td>1.0</td>\n",
       "      <td>Short</td>\n",
       "      <td>4.0</td>\n",
       "      <td>High</td>\n",
       "      <td>...</td>\n",
       "      <td>Yes</td>\n",
       "      <td>Yes</td>\n",
       "      <td>No</td>\n",
       "      <td>No</td>\n",
       "      <td>No</td>\n",
       "      <td>No</td>\n",
       "      <td>No</td>\n",
       "      <td>No</td>\n",
       "      <td>No</td>\n",
       "      <td>No</td>\n",
       "    </tr>\n",
       "    <tr>\n",
       "      <th>2</th>\n",
       "      <td>Inter</td>\n",
       "      <td>SEA</td>\n",
       "      <td>Male</td>\n",
       "      <td>Grad</td>\n",
       "      <td>25.0</td>\n",
       "      <td>4.0</td>\n",
       "      <td>6.0</td>\n",
       "      <td>Long</td>\n",
       "      <td>4.0</td>\n",
       "      <td>High</td>\n",
       "      <td>...</td>\n",
       "      <td>No</td>\n",
       "      <td>No</td>\n",
       "      <td>No</td>\n",
       "      <td>No</td>\n",
       "      <td>No</td>\n",
       "      <td>No</td>\n",
       "      <td>No</td>\n",
       "      <td>No</td>\n",
       "      <td>No</td>\n",
       "      <td>No</td>\n",
       "    </tr>\n",
       "    <tr>\n",
       "      <th>3</th>\n",
       "      <td>Inter</td>\n",
       "      <td>EA</td>\n",
       "      <td>Female</td>\n",
       "      <td>Grad</td>\n",
       "      <td>29.0</td>\n",
       "      <td>5.0</td>\n",
       "      <td>1.0</td>\n",
       "      <td>Short</td>\n",
       "      <td>2.0</td>\n",
       "      <td>Low</td>\n",
       "      <td>...</td>\n",
       "      <td>Yes</td>\n",
       "      <td>Yes</td>\n",
       "      <td>Yes</td>\n",
       "      <td>Yes</td>\n",
       "      <td>No</td>\n",
       "      <td>No</td>\n",
       "      <td>No</td>\n",
       "      <td>No</td>\n",
       "      <td>No</td>\n",
       "      <td>No</td>\n",
       "    </tr>\n",
       "    <tr>\n",
       "      <th>4</th>\n",
       "      <td>Inter</td>\n",
       "      <td>EA</td>\n",
       "      <td>Female</td>\n",
       "      <td>Grad</td>\n",
       "      <td>28.0</td>\n",
       "      <td>5.0</td>\n",
       "      <td>1.0</td>\n",
       "      <td>Short</td>\n",
       "      <td>1.0</td>\n",
       "      <td>Low</td>\n",
       "      <td>...</td>\n",
       "      <td>Yes</td>\n",
       "      <td>Yes</td>\n",
       "      <td>No</td>\n",
       "      <td>Yes</td>\n",
       "      <td>No</td>\n",
       "      <td>Yes</td>\n",
       "      <td>Yes</td>\n",
       "      <td>No</td>\n",
       "      <td>No</td>\n",
       "      <td>No</td>\n",
       "    </tr>\n",
       "  </tbody>\n",
       "</table>\n",
       "<p>5 rows × 50 columns</p>\n",
       "</div>"
      ],
      "text/plain": [
       "  inter_dom Region  Gender Academic   Age  Age_cate  Stay Stay_Cate  Japanese  \\\n",
       "0     Inter    SEA    Male     Grad  24.0       4.0   5.0      Long       3.0   \n",
       "1     Inter    SEA    Male     Grad  28.0       5.0   1.0     Short       4.0   \n",
       "2     Inter    SEA    Male     Grad  25.0       4.0   6.0      Long       4.0   \n",
       "3     Inter     EA  Female     Grad  29.0       5.0   1.0     Short       2.0   \n",
       "4     Inter     EA  Female     Grad  28.0       5.0   1.0     Short       1.0   \n",
       "\n",
       "  Japanese_cate  ...  Friends_bi Parents_bi Relative_bi Professional_bi  \\\n",
       "0       Average  ...         Yes        Yes          No              No   \n",
       "1          High  ...         Yes        Yes          No              No   \n",
       "2          High  ...          No         No          No              No   \n",
       "3           Low  ...         Yes        Yes         Yes             Yes   \n",
       "4           Low  ...         Yes        Yes          No             Yes   \n",
       "\n",
       "  Phone_bi Doctor_bi religion_bi  Alone_bi Others_bi  Internet_bi  \n",
       "0       No        No          No        No        No           No  \n",
       "1       No        No          No        No        No           No  \n",
       "2       No        No          No        No        No           No  \n",
       "3       No        No          No        No        No           No  \n",
       "4       No       Yes         Yes        No        No           No  \n",
       "\n",
       "[5 rows x 50 columns]"
      ]
     },
     "execution_count": 4,
     "metadata": {},
     "output_type": "execute_result"
    }
   ],
   "source": [
    "# Inspect the first few rows of the dataset\n",
    "students.head()"
   ]
  },
  {
   "cell_type": "code",
   "execution_count": 5,
   "metadata": {},
   "outputs": [
    {
     "data": {
      "text/plain": [
       "inter_dom\n",
       "Inter    201\n",
       "Dom       67\n",
       "NaN       18\n",
       "Name: count, dtype: int64"
      ]
     },
     "execution_count": 5,
     "metadata": {},
     "output_type": "execute_result"
    }
   ],
   "source": [
    "# Count the number of students in each inter_dom group, including null values\n",
    "students['inter_dom'].value_counts(dropna=False)"
   ]
  },
  {
   "cell_type": "code",
   "execution_count": 6,
   "metadata": {},
   "outputs": [
    {
     "data": {
      "text/html": [
       "<div>\n",
       "<style scoped>\n",
       "    .dataframe tbody tr th:only-of-type {\n",
       "        vertical-align: middle;\n",
       "    }\n",
       "\n",
       "    .dataframe tbody tr th {\n",
       "        vertical-align: top;\n",
       "    }\n",
       "\n",
       "    .dataframe thead th {\n",
       "        text-align: right;\n",
       "    }\n",
       "</style>\n",
       "<table border=\"1\" class=\"dataframe\">\n",
       "  <thead>\n",
       "    <tr style=\"text-align: right;\">\n",
       "      <th></th>\n",
       "      <th>inter_dom</th>\n",
       "      <th>Region</th>\n",
       "      <th>Gender</th>\n",
       "      <th>Academic</th>\n",
       "      <th>Age</th>\n",
       "      <th>Age_cate</th>\n",
       "      <th>Stay</th>\n",
       "      <th>Stay_Cate</th>\n",
       "      <th>Japanese</th>\n",
       "      <th>Japanese_cate</th>\n",
       "      <th>...</th>\n",
       "      <th>Friends_bi</th>\n",
       "      <th>Parents_bi</th>\n",
       "      <th>Relative_bi</th>\n",
       "      <th>Professional_bi</th>\n",
       "      <th>Phone_bi</th>\n",
       "      <th>Doctor_bi</th>\n",
       "      <th>religion_bi</th>\n",
       "      <th>Alone_bi</th>\n",
       "      <th>Others_bi</th>\n",
       "      <th>Internet_bi</th>\n",
       "    </tr>\n",
       "  </thead>\n",
       "  <tbody>\n",
       "    <tr>\n",
       "      <th>268</th>\n",
       "      <td>NaN</td>\n",
       "      <td>NaN</td>\n",
       "      <td>NaN</td>\n",
       "      <td>NaN</td>\n",
       "      <td>NaN</td>\n",
       "      <td>NaN</td>\n",
       "      <td>NaN</td>\n",
       "      <td>NaN</td>\n",
       "      <td>NaN</td>\n",
       "      <td>NaN</td>\n",
       "      <td>...</td>\n",
       "      <td>NaN</td>\n",
       "      <td>NaN</td>\n",
       "      <td>NaN</td>\n",
       "      <td>NaN</td>\n",
       "      <td>NaN</td>\n",
       "      <td>NaN</td>\n",
       "      <td>NaN</td>\n",
       "      <td>NaN</td>\n",
       "      <td>NaN</td>\n",
       "      <td>NaN</td>\n",
       "    </tr>\n",
       "    <tr>\n",
       "      <th>269</th>\n",
       "      <td>NaN</td>\n",
       "      <td>NaN</td>\n",
       "      <td>NaN</td>\n",
       "      <td>NaN</td>\n",
       "      <td>NaN</td>\n",
       "      <td>NaN</td>\n",
       "      <td>NaN</td>\n",
       "      <td>NaN</td>\n",
       "      <td>NaN</td>\n",
       "      <td>NaN</td>\n",
       "      <td>...</td>\n",
       "      <td>128</td>\n",
       "      <td>137</td>\n",
       "      <td>66</td>\n",
       "      <td>61</td>\n",
       "      <td>30</td>\n",
       "      <td>46</td>\n",
       "      <td>19</td>\n",
       "      <td>65</td>\n",
       "      <td>21</td>\n",
       "      <td>45</td>\n",
       "    </tr>\n",
       "    <tr>\n",
       "      <th>270</th>\n",
       "      <td>NaN</td>\n",
       "      <td>NaN</td>\n",
       "      <td>NaN</td>\n",
       "      <td>NaN</td>\n",
       "      <td>NaN</td>\n",
       "      <td>NaN</td>\n",
       "      <td>NaN</td>\n",
       "      <td>NaN</td>\n",
       "      <td>NaN</td>\n",
       "      <td>NaN</td>\n",
       "      <td>...</td>\n",
       "      <td>140</td>\n",
       "      <td>131</td>\n",
       "      <td>202</td>\n",
       "      <td>207</td>\n",
       "      <td>238</td>\n",
       "      <td>222</td>\n",
       "      <td>249</td>\n",
       "      <td>203</td>\n",
       "      <td>247</td>\n",
       "      <td>223</td>\n",
       "    </tr>\n",
       "    <tr>\n",
       "      <th>271</th>\n",
       "      <td>NaN</td>\n",
       "      <td>NaN</td>\n",
       "      <td>NaN</td>\n",
       "      <td>NaN</td>\n",
       "      <td>NaN</td>\n",
       "      <td>NaN</td>\n",
       "      <td>NaN</td>\n",
       "      <td>NaN</td>\n",
       "      <td>NaN</td>\n",
       "      <td>NaN</td>\n",
       "      <td>...</td>\n",
       "      <td>NaN</td>\n",
       "      <td>NaN</td>\n",
       "      <td>NaN</td>\n",
       "      <td>NaN</td>\n",
       "      <td>NaN</td>\n",
       "      <td>NaN</td>\n",
       "      <td>NaN</td>\n",
       "      <td>NaN</td>\n",
       "      <td>NaN</td>\n",
       "      <td>NaN</td>\n",
       "    </tr>\n",
       "    <tr>\n",
       "      <th>272</th>\n",
       "      <td>NaN</td>\n",
       "      <td>NaN</td>\n",
       "      <td>NaN</td>\n",
       "      <td>NaN</td>\n",
       "      <td>NaN</td>\n",
       "      <td>NaN</td>\n",
       "      <td>NaN</td>\n",
       "      <td>NaN</td>\n",
       "      <td>NaN</td>\n",
       "      <td>NaN</td>\n",
       "      <td>...</td>\n",
       "      <td>128</td>\n",
       "      <td>137</td>\n",
       "      <td>66</td>\n",
       "      <td>61</td>\n",
       "      <td>30</td>\n",
       "      <td>46</td>\n",
       "      <td>19</td>\n",
       "      <td>65</td>\n",
       "      <td>21</td>\n",
       "      <td>45</td>\n",
       "    </tr>\n",
       "    <tr>\n",
       "      <th>273</th>\n",
       "      <td>NaN</td>\n",
       "      <td>NaN</td>\n",
       "      <td>NaN</td>\n",
       "      <td>NaN</td>\n",
       "      <td>NaN</td>\n",
       "      <td>NaN</td>\n",
       "      <td>NaN</td>\n",
       "      <td>NaN</td>\n",
       "      <td>NaN</td>\n",
       "      <td>NaN</td>\n",
       "      <td>...</td>\n",
       "      <td>140</td>\n",
       "      <td>131</td>\n",
       "      <td>202</td>\n",
       "      <td>207</td>\n",
       "      <td>238</td>\n",
       "      <td>222</td>\n",
       "      <td>249</td>\n",
       "      <td>203</td>\n",
       "      <td>247</td>\n",
       "      <td>223</td>\n",
       "    </tr>\n",
       "    <tr>\n",
       "      <th>274</th>\n",
       "      <td>NaN</td>\n",
       "      <td>NaN</td>\n",
       "      <td>NaN</td>\n",
       "      <td>NaN</td>\n",
       "      <td>NaN</td>\n",
       "      <td>NaN</td>\n",
       "      <td>NaN</td>\n",
       "      <td>NaN</td>\n",
       "      <td>NaN</td>\n",
       "      <td>NaN</td>\n",
       "      <td>...</td>\n",
       "      <td>NaN</td>\n",
       "      <td>NaN</td>\n",
       "      <td>NaN</td>\n",
       "      <td>NaN</td>\n",
       "      <td>NaN</td>\n",
       "      <td>NaN</td>\n",
       "      <td>NaN</td>\n",
       "      <td>NaN</td>\n",
       "      <td>NaN</td>\n",
       "      <td>NaN</td>\n",
       "    </tr>\n",
       "    <tr>\n",
       "      <th>275</th>\n",
       "      <td>NaN</td>\n",
       "      <td>NaN</td>\n",
       "      <td>NaN</td>\n",
       "      <td>NaN</td>\n",
       "      <td>NaN</td>\n",
       "      <td>NaN</td>\n",
       "      <td>NaN</td>\n",
       "      <td>NaN</td>\n",
       "      <td>NaN</td>\n",
       "      <td>NaN</td>\n",
       "      <td>...</td>\n",
       "      <td>123</td>\n",
       "      <td>NaN</td>\n",
       "      <td>NaN</td>\n",
       "      <td>NaN</td>\n",
       "      <td>NaN</td>\n",
       "      <td>NaN</td>\n",
       "      <td>NaN</td>\n",
       "      <td>NaN</td>\n",
       "      <td>NaN</td>\n",
       "      <td>NaN</td>\n",
       "    </tr>\n",
       "    <tr>\n",
       "      <th>276</th>\n",
       "      <td>NaN</td>\n",
       "      <td>NaN</td>\n",
       "      <td>NaN</td>\n",
       "      <td>NaN</td>\n",
       "      <td>NaN</td>\n",
       "      <td>NaN</td>\n",
       "      <td>NaN</td>\n",
       "      <td>NaN</td>\n",
       "      <td>NaN</td>\n",
       "      <td>NaN</td>\n",
       "      <td>...</td>\n",
       "      <td>140</td>\n",
       "      <td>NaN</td>\n",
       "      <td>NaN</td>\n",
       "      <td>NaN</td>\n",
       "      <td>NaN</td>\n",
       "      <td>NaN</td>\n",
       "      <td>NaN</td>\n",
       "      <td>NaN</td>\n",
       "      <td>NaN</td>\n",
       "      <td>NaN</td>\n",
       "    </tr>\n",
       "    <tr>\n",
       "      <th>277</th>\n",
       "      <td>NaN</td>\n",
       "      <td>NaN</td>\n",
       "      <td>NaN</td>\n",
       "      <td>NaN</td>\n",
       "      <td>NaN</td>\n",
       "      <td>NaN</td>\n",
       "      <td>NaN</td>\n",
       "      <td>NaN</td>\n",
       "      <td>NaN</td>\n",
       "      <td>NaN</td>\n",
       "      <td>...</td>\n",
       "      <td>131</td>\n",
       "      <td>NaN</td>\n",
       "      <td>NaN</td>\n",
       "      <td>NaN</td>\n",
       "      <td>NaN</td>\n",
       "      <td>NaN</td>\n",
       "      <td>NaN</td>\n",
       "      <td>NaN</td>\n",
       "      <td>NaN</td>\n",
       "      <td>NaN</td>\n",
       "    </tr>\n",
       "    <tr>\n",
       "      <th>278</th>\n",
       "      <td>NaN</td>\n",
       "      <td>NaN</td>\n",
       "      <td>NaN</td>\n",
       "      <td>NaN</td>\n",
       "      <td>NaN</td>\n",
       "      <td>NaN</td>\n",
       "      <td>NaN</td>\n",
       "      <td>NaN</td>\n",
       "      <td>NaN</td>\n",
       "      <td>NaN</td>\n",
       "      <td>...</td>\n",
       "      <td>202</td>\n",
       "      <td>NaN</td>\n",
       "      <td>NaN</td>\n",
       "      <td>NaN</td>\n",
       "      <td>NaN</td>\n",
       "      <td>NaN</td>\n",
       "      <td>NaN</td>\n",
       "      <td>NaN</td>\n",
       "      <td>NaN</td>\n",
       "      <td>NaN</td>\n",
       "    </tr>\n",
       "    <tr>\n",
       "      <th>279</th>\n",
       "      <td>NaN</td>\n",
       "      <td>NaN</td>\n",
       "      <td>NaN</td>\n",
       "      <td>NaN</td>\n",
       "      <td>NaN</td>\n",
       "      <td>NaN</td>\n",
       "      <td>NaN</td>\n",
       "      <td>NaN</td>\n",
       "      <td>NaN</td>\n",
       "      <td>NaN</td>\n",
       "      <td>...</td>\n",
       "      <td>207</td>\n",
       "      <td>NaN</td>\n",
       "      <td>NaN</td>\n",
       "      <td>NaN</td>\n",
       "      <td>NaN</td>\n",
       "      <td>NaN</td>\n",
       "      <td>NaN</td>\n",
       "      <td>NaN</td>\n",
       "      <td>NaN</td>\n",
       "      <td>NaN</td>\n",
       "    </tr>\n",
       "    <tr>\n",
       "      <th>280</th>\n",
       "      <td>NaN</td>\n",
       "      <td>NaN</td>\n",
       "      <td>NaN</td>\n",
       "      <td>NaN</td>\n",
       "      <td>NaN</td>\n",
       "      <td>NaN</td>\n",
       "      <td>NaN</td>\n",
       "      <td>NaN</td>\n",
       "      <td>NaN</td>\n",
       "      <td>NaN</td>\n",
       "      <td>...</td>\n",
       "      <td>238</td>\n",
       "      <td>NaN</td>\n",
       "      <td>NaN</td>\n",
       "      <td>NaN</td>\n",
       "      <td>NaN</td>\n",
       "      <td>NaN</td>\n",
       "      <td>NaN</td>\n",
       "      <td>NaN</td>\n",
       "      <td>NaN</td>\n",
       "      <td>NaN</td>\n",
       "    </tr>\n",
       "    <tr>\n",
       "      <th>281</th>\n",
       "      <td>NaN</td>\n",
       "      <td>NaN</td>\n",
       "      <td>NaN</td>\n",
       "      <td>NaN</td>\n",
       "      <td>NaN</td>\n",
       "      <td>NaN</td>\n",
       "      <td>NaN</td>\n",
       "      <td>NaN</td>\n",
       "      <td>NaN</td>\n",
       "      <td>NaN</td>\n",
       "      <td>...</td>\n",
       "      <td>222</td>\n",
       "      <td>NaN</td>\n",
       "      <td>NaN</td>\n",
       "      <td>NaN</td>\n",
       "      <td>NaN</td>\n",
       "      <td>NaN</td>\n",
       "      <td>NaN</td>\n",
       "      <td>NaN</td>\n",
       "      <td>NaN</td>\n",
       "      <td>NaN</td>\n",
       "    </tr>\n",
       "    <tr>\n",
       "      <th>282</th>\n",
       "      <td>NaN</td>\n",
       "      <td>NaN</td>\n",
       "      <td>NaN</td>\n",
       "      <td>NaN</td>\n",
       "      <td>NaN</td>\n",
       "      <td>NaN</td>\n",
       "      <td>NaN</td>\n",
       "      <td>NaN</td>\n",
       "      <td>NaN</td>\n",
       "      <td>NaN</td>\n",
       "      <td>...</td>\n",
       "      <td>249</td>\n",
       "      <td>NaN</td>\n",
       "      <td>NaN</td>\n",
       "      <td>NaN</td>\n",
       "      <td>NaN</td>\n",
       "      <td>NaN</td>\n",
       "      <td>NaN</td>\n",
       "      <td>NaN</td>\n",
       "      <td>NaN</td>\n",
       "      <td>NaN</td>\n",
       "    </tr>\n",
       "    <tr>\n",
       "      <th>283</th>\n",
       "      <td>NaN</td>\n",
       "      <td>NaN</td>\n",
       "      <td>NaN</td>\n",
       "      <td>NaN</td>\n",
       "      <td>NaN</td>\n",
       "      <td>NaN</td>\n",
       "      <td>NaN</td>\n",
       "      <td>NaN</td>\n",
       "      <td>NaN</td>\n",
       "      <td>NaN</td>\n",
       "      <td>...</td>\n",
       "      <td>203</td>\n",
       "      <td>NaN</td>\n",
       "      <td>NaN</td>\n",
       "      <td>NaN</td>\n",
       "      <td>NaN</td>\n",
       "      <td>NaN</td>\n",
       "      <td>NaN</td>\n",
       "      <td>NaN</td>\n",
       "      <td>NaN</td>\n",
       "      <td>NaN</td>\n",
       "    </tr>\n",
       "    <tr>\n",
       "      <th>284</th>\n",
       "      <td>NaN</td>\n",
       "      <td>NaN</td>\n",
       "      <td>NaN</td>\n",
       "      <td>NaN</td>\n",
       "      <td>NaN</td>\n",
       "      <td>NaN</td>\n",
       "      <td>NaN</td>\n",
       "      <td>NaN</td>\n",
       "      <td>NaN</td>\n",
       "      <td>NaN</td>\n",
       "      <td>...</td>\n",
       "      <td>247</td>\n",
       "      <td>NaN</td>\n",
       "      <td>NaN</td>\n",
       "      <td>NaN</td>\n",
       "      <td>NaN</td>\n",
       "      <td>NaN</td>\n",
       "      <td>NaN</td>\n",
       "      <td>NaN</td>\n",
       "      <td>NaN</td>\n",
       "      <td>NaN</td>\n",
       "    </tr>\n",
       "    <tr>\n",
       "      <th>285</th>\n",
       "      <td>NaN</td>\n",
       "      <td>NaN</td>\n",
       "      <td>NaN</td>\n",
       "      <td>NaN</td>\n",
       "      <td>NaN</td>\n",
       "      <td>NaN</td>\n",
       "      <td>NaN</td>\n",
       "      <td>NaN</td>\n",
       "      <td>NaN</td>\n",
       "      <td>NaN</td>\n",
       "      <td>...</td>\n",
       "      <td>223</td>\n",
       "      <td>NaN</td>\n",
       "      <td>NaN</td>\n",
       "      <td>NaN</td>\n",
       "      <td>NaN</td>\n",
       "      <td>NaN</td>\n",
       "      <td>NaN</td>\n",
       "      <td>NaN</td>\n",
       "      <td>NaN</td>\n",
       "      <td>NaN</td>\n",
       "    </tr>\n",
       "  </tbody>\n",
       "</table>\n",
       "<p>18 rows × 50 columns</p>\n",
       "</div>"
      ],
      "text/plain": [
       "    inter_dom Region Gender Academic  Age  Age_cate  Stay Stay_Cate  Japanese  \\\n",
       "268       NaN    NaN    NaN      NaN  NaN       NaN   NaN       NaN       NaN   \n",
       "269       NaN    NaN    NaN      NaN  NaN       NaN   NaN       NaN       NaN   \n",
       "270       NaN    NaN    NaN      NaN  NaN       NaN   NaN       NaN       NaN   \n",
       "271       NaN    NaN    NaN      NaN  NaN       NaN   NaN       NaN       NaN   \n",
       "272       NaN    NaN    NaN      NaN  NaN       NaN   NaN       NaN       NaN   \n",
       "273       NaN    NaN    NaN      NaN  NaN       NaN   NaN       NaN       NaN   \n",
       "274       NaN    NaN    NaN      NaN  NaN       NaN   NaN       NaN       NaN   \n",
       "275       NaN    NaN    NaN      NaN  NaN       NaN   NaN       NaN       NaN   \n",
       "276       NaN    NaN    NaN      NaN  NaN       NaN   NaN       NaN       NaN   \n",
       "277       NaN    NaN    NaN      NaN  NaN       NaN   NaN       NaN       NaN   \n",
       "278       NaN    NaN    NaN      NaN  NaN       NaN   NaN       NaN       NaN   \n",
       "279       NaN    NaN    NaN      NaN  NaN       NaN   NaN       NaN       NaN   \n",
       "280       NaN    NaN    NaN      NaN  NaN       NaN   NaN       NaN       NaN   \n",
       "281       NaN    NaN    NaN      NaN  NaN       NaN   NaN       NaN       NaN   \n",
       "282       NaN    NaN    NaN      NaN  NaN       NaN   NaN       NaN       NaN   \n",
       "283       NaN    NaN    NaN      NaN  NaN       NaN   NaN       NaN       NaN   \n",
       "284       NaN    NaN    NaN      NaN  NaN       NaN   NaN       NaN       NaN   \n",
       "285       NaN    NaN    NaN      NaN  NaN       NaN   NaN       NaN       NaN   \n",
       "\n",
       "    Japanese_cate  ...  Friends_bi Parents_bi Relative_bi Professional_bi  \\\n",
       "268           NaN  ...         NaN        NaN         NaN             NaN   \n",
       "269           NaN  ...         128        137          66              61   \n",
       "270           NaN  ...         140        131         202             207   \n",
       "271           NaN  ...         NaN        NaN         NaN             NaN   \n",
       "272           NaN  ...         128        137          66              61   \n",
       "273           NaN  ...         140        131         202             207   \n",
       "274           NaN  ...         NaN        NaN         NaN             NaN   \n",
       "275           NaN  ...         123        NaN         NaN             NaN   \n",
       "276           NaN  ...         140        NaN         NaN             NaN   \n",
       "277           NaN  ...         131        NaN         NaN             NaN   \n",
       "278           NaN  ...         202        NaN         NaN             NaN   \n",
       "279           NaN  ...         207        NaN         NaN             NaN   \n",
       "280           NaN  ...         238        NaN         NaN             NaN   \n",
       "281           NaN  ...         222        NaN         NaN             NaN   \n",
       "282           NaN  ...         249        NaN         NaN             NaN   \n",
       "283           NaN  ...         203        NaN         NaN             NaN   \n",
       "284           NaN  ...         247        NaN         NaN             NaN   \n",
       "285           NaN  ...         223        NaN         NaN             NaN   \n",
       "\n",
       "    Phone_bi Doctor_bi religion_bi  Alone_bi Others_bi  Internet_bi  \n",
       "268      NaN       NaN         NaN       NaN       NaN          NaN  \n",
       "269       30        46          19        65        21           45  \n",
       "270      238       222         249       203       247          223  \n",
       "271      NaN       NaN         NaN       NaN       NaN          NaN  \n",
       "272       30        46          19        65        21           45  \n",
       "273      238       222         249       203       247          223  \n",
       "274      NaN       NaN         NaN       NaN       NaN          NaN  \n",
       "275      NaN       NaN         NaN       NaN       NaN          NaN  \n",
       "276      NaN       NaN         NaN       NaN       NaN          NaN  \n",
       "277      NaN       NaN         NaN       NaN       NaN          NaN  \n",
       "278      NaN       NaN         NaN       NaN       NaN          NaN  \n",
       "279      NaN       NaN         NaN       NaN       NaN          NaN  \n",
       "280      NaN       NaN         NaN       NaN       NaN          NaN  \n",
       "281      NaN       NaN         NaN       NaN       NaN          NaN  \n",
       "282      NaN       NaN         NaN       NaN       NaN          NaN  \n",
       "283      NaN       NaN         NaN       NaN       NaN          NaN  \n",
       "284      NaN       NaN         NaN       NaN       NaN          NaN  \n",
       "285      NaN       NaN         NaN       NaN       NaN          NaN  \n",
       "\n",
       "[18 rows x 50 columns]"
      ]
     },
     "execution_count": 6,
     "metadata": {},
     "output_type": "execute_result"
    }
   ],
   "source": [
    "# Filter rows where inter_dom is null\n",
    "students[students['inter_dom'].isnull()]"
   ]
  },
  {
   "cell_type": "code",
   "execution_count": 7,
   "metadata": {},
   "outputs": [],
   "source": [
    "# Drop rows where inter_dom is null\n",
    "students = students.dropna(subset=['inter_dom'])"
   ]
  },
  {
   "cell_type": "markdown",
   "metadata": {},
   "source": [
    "### Inspect The Data"
   ]
  },
  {
   "cell_type": "code",
   "execution_count": 8,
   "metadata": {},
   "outputs": [
    {
     "name": "stdout",
     "output_type": "stream",
     "text": [
      "inter_dom\n",
      "Inter    0.75\n",
      "Dom      0.25\n",
      "Name: proportion, dtype: float64\n",
      "Region\n",
      "SEA       0.455224\n",
      "JAP       0.257463\n",
      "EA        0.179104\n",
      "SA        0.067164\n",
      "Others    0.041045\n",
      "Name: proportion, dtype: float64\n",
      "Gender\n",
      "Female    0.634328\n",
      "Male      0.365672\n",
      "Name: proportion, dtype: float64\n",
      "Academic\n",
      "Under    0.921642\n",
      "Grad     0.078358\n",
      "Name: proportion, dtype: float64\n"
     ]
    }
   ],
   "source": [
    "# See the percentage of students in each group\n",
    "for col in ['inter_dom', 'Region', 'Gender', 'Academic']:\n",
    "    print(students[col].value_counts(normalize=True))"
   ]
  },
  {
   "cell_type": "markdown",
   "metadata": {},
   "source": [
    "Most of the participants were international students (75%). Among all students, those from Asia accounted for 96%, with the largest group being 45.52% from South East Asia, followed by 25.74% from Japan as the second-largest group. In terms of gender, female participants accounted for 63.43%, while male students made up 36.57% of the participant pool."
   ]
  },
  {
   "cell_type": "code",
   "execution_count": 9,
   "metadata": {},
   "outputs": [
    {
     "data": {
      "text/plain": [
       "count    268.000000\n",
       "mean      20.873134\n",
       "std        2.765279\n",
       "min       17.000000\n",
       "25%       19.000000\n",
       "50%       20.000000\n",
       "75%       22.000000\n",
       "max       31.000000\n",
       "Name: Age, dtype: float64"
      ]
     },
     "execution_count": 9,
     "metadata": {},
     "output_type": "execute_result"
    }
   ],
   "source": [
    "# Describe the Age variable\n",
    "students['Age'].describe()"
   ]
  },
  {
   "cell_type": "code",
   "execution_count": 10,
   "metadata": {},
   "outputs": [
    {
     "data": {
      "application/vnd.plotly.v1+json": {
       "config": {
        "plotlyServerURL": "https://plot.ly"
       },
       "data": [
        {
         "alignmentgroup": "True",
         "bingroup": "x",
         "hovertemplate": "Academic=Grad<br>Age=%{x}<br>count=%{y}<extra></extra>",
         "legendgroup": "Grad",
         "marker": {
          "color": "#636efa",
          "pattern": {
           "shape": ""
          }
         },
         "name": "Grad",
         "offsetgroup": "Grad",
         "orientation": "v",
         "showlegend": true,
         "type": "histogram",
         "x": [
          24,
          28,
          25,
          29,
          28,
          24,
          23,
          30,
          25,
          31,
          28,
          31,
          29,
          23,
          31,
          30,
          31,
          29,
          25,
          30,
          27
         ],
         "xaxis": "x",
         "yaxis": "y"
        },
        {
         "alignmentgroup": "True",
         "bingroup": "x",
         "hovertemplate": "Academic=Under<br>Age=%{x}<br>count=%{y}<extra></extra>",
         "legendgroup": "Under",
         "marker": {
          "color": "#EF553B",
          "pattern": {
           "shape": ""
          }
         },
         "name": "Under",
         "offsetgroup": "Under",
         "orientation": "v",
         "showlegend": true,
         "type": "histogram",
         "x": [
          19,
          25,
          18,
          18,
          19,
          20,
          29,
          17,
          20,
          19,
          18,
          21,
          22,
          20,
          19,
          21,
          22,
          18,
          21,
          22,
          19,
          24,
          19,
          18,
          20,
          23,
          23,
          20,
          20,
          21,
          23,
          20,
          23,
          20,
          21,
          21,
          19,
          18,
          20,
          18,
          20,
          18,
          21,
          20,
          19,
          18,
          21,
          20,
          18,
          19,
          22,
          19,
          20,
          19,
          24,
          21,
          20,
          23,
          19,
          19,
          19,
          20,
          20,
          21,
          21,
          21,
          18,
          19,
          21,
          18,
          19,
          22,
          19,
          21,
          19,
          23,
          20,
          20,
          21,
          20,
          20,
          23,
          21,
          20,
          23,
          19,
          21,
          21,
          18,
          19,
          17,
          18,
          19,
          22,
          23,
          21,
          22,
          21,
          21,
          20,
          23,
          18,
          21,
          18,
          22,
          17,
          19,
          27,
          18,
          19,
          20,
          19,
          19,
          21,
          21,
          22,
          22,
          21,
          21,
          19,
          21,
          21,
          22,
          18,
          20,
          20,
          24,
          24,
          18,
          21,
          19,
          19,
          20,
          21,
          18,
          21,
          21,
          19,
          21,
          19,
          20,
          19,
          19,
          19,
          25,
          21,
          18,
          19,
          25,
          18,
          19,
          20,
          21,
          19,
          20,
          19,
          22,
          22,
          19,
          19,
          18,
          18,
          20,
          19,
          18,
          21,
          22,
          25,
          19,
          25,
          18,
          25,
          18,
          20,
          20,
          21,
          21,
          20,
          21,
          18,
          20,
          18,
          21,
          20,
          21,
          20,
          18,
          22,
          22,
          20,
          21,
          21,
          20,
          21,
          21,
          20,
          21,
          21,
          22,
          21,
          21,
          19,
          23,
          18,
          18,
          18,
          18,
          18,
          20,
          20,
          19,
          20,
          21,
          23,
          20,
          21,
          19,
          20,
          20,
          21,
          20,
          19,
          20,
          20,
          19,
          24,
          22,
          21,
          19,
          23,
          23,
          21,
          18,
          21,
          22,
          20,
          19,
          18,
          19,
          20,
          21,
          22,
          21,
          22,
          19,
          19,
          20
         ],
         "xaxis": "x",
         "yaxis": "y"
        }
       ],
       "layout": {
        "barmode": "relative",
        "legend": {
         "title": {
          "text": "Academic"
         },
         "tracegroupgap": 0
        },
        "template": {
         "data": {
          "bar": [
           {
            "error_x": {
             "color": "#2a3f5f"
            },
            "error_y": {
             "color": "#2a3f5f"
            },
            "marker": {
             "line": {
              "color": "#E5ECF6",
              "width": 0.5
             },
             "pattern": {
              "fillmode": "overlay",
              "size": 10,
              "solidity": 0.2
             }
            },
            "type": "bar"
           }
          ],
          "barpolar": [
           {
            "marker": {
             "line": {
              "color": "#E5ECF6",
              "width": 0.5
             },
             "pattern": {
              "fillmode": "overlay",
              "size": 10,
              "solidity": 0.2
             }
            },
            "type": "barpolar"
           }
          ],
          "carpet": [
           {
            "aaxis": {
             "endlinecolor": "#2a3f5f",
             "gridcolor": "white",
             "linecolor": "white",
             "minorgridcolor": "white",
             "startlinecolor": "#2a3f5f"
            },
            "baxis": {
             "endlinecolor": "#2a3f5f",
             "gridcolor": "white",
             "linecolor": "white",
             "minorgridcolor": "white",
             "startlinecolor": "#2a3f5f"
            },
            "type": "carpet"
           }
          ],
          "choropleth": [
           {
            "colorbar": {
             "outlinewidth": 0,
             "ticks": ""
            },
            "type": "choropleth"
           }
          ],
          "contour": [
           {
            "colorbar": {
             "outlinewidth": 0,
             "ticks": ""
            },
            "colorscale": [
             [
              0,
              "#0d0887"
             ],
             [
              0.1111111111111111,
              "#46039f"
             ],
             [
              0.2222222222222222,
              "#7201a8"
             ],
             [
              0.3333333333333333,
              "#9c179e"
             ],
             [
              0.4444444444444444,
              "#bd3786"
             ],
             [
              0.5555555555555556,
              "#d8576b"
             ],
             [
              0.6666666666666666,
              "#ed7953"
             ],
             [
              0.7777777777777778,
              "#fb9f3a"
             ],
             [
              0.8888888888888888,
              "#fdca26"
             ],
             [
              1,
              "#f0f921"
             ]
            ],
            "type": "contour"
           }
          ],
          "contourcarpet": [
           {
            "colorbar": {
             "outlinewidth": 0,
             "ticks": ""
            },
            "type": "contourcarpet"
           }
          ],
          "heatmap": [
           {
            "colorbar": {
             "outlinewidth": 0,
             "ticks": ""
            },
            "colorscale": [
             [
              0,
              "#0d0887"
             ],
             [
              0.1111111111111111,
              "#46039f"
             ],
             [
              0.2222222222222222,
              "#7201a8"
             ],
             [
              0.3333333333333333,
              "#9c179e"
             ],
             [
              0.4444444444444444,
              "#bd3786"
             ],
             [
              0.5555555555555556,
              "#d8576b"
             ],
             [
              0.6666666666666666,
              "#ed7953"
             ],
             [
              0.7777777777777778,
              "#fb9f3a"
             ],
             [
              0.8888888888888888,
              "#fdca26"
             ],
             [
              1,
              "#f0f921"
             ]
            ],
            "type": "heatmap"
           }
          ],
          "heatmapgl": [
           {
            "colorbar": {
             "outlinewidth": 0,
             "ticks": ""
            },
            "colorscale": [
             [
              0,
              "#0d0887"
             ],
             [
              0.1111111111111111,
              "#46039f"
             ],
             [
              0.2222222222222222,
              "#7201a8"
             ],
             [
              0.3333333333333333,
              "#9c179e"
             ],
             [
              0.4444444444444444,
              "#bd3786"
             ],
             [
              0.5555555555555556,
              "#d8576b"
             ],
             [
              0.6666666666666666,
              "#ed7953"
             ],
             [
              0.7777777777777778,
              "#fb9f3a"
             ],
             [
              0.8888888888888888,
              "#fdca26"
             ],
             [
              1,
              "#f0f921"
             ]
            ],
            "type": "heatmapgl"
           }
          ],
          "histogram": [
           {
            "marker": {
             "pattern": {
              "fillmode": "overlay",
              "size": 10,
              "solidity": 0.2
             }
            },
            "type": "histogram"
           }
          ],
          "histogram2d": [
           {
            "colorbar": {
             "outlinewidth": 0,
             "ticks": ""
            },
            "colorscale": [
             [
              0,
              "#0d0887"
             ],
             [
              0.1111111111111111,
              "#46039f"
             ],
             [
              0.2222222222222222,
              "#7201a8"
             ],
             [
              0.3333333333333333,
              "#9c179e"
             ],
             [
              0.4444444444444444,
              "#bd3786"
             ],
             [
              0.5555555555555556,
              "#d8576b"
             ],
             [
              0.6666666666666666,
              "#ed7953"
             ],
             [
              0.7777777777777778,
              "#fb9f3a"
             ],
             [
              0.8888888888888888,
              "#fdca26"
             ],
             [
              1,
              "#f0f921"
             ]
            ],
            "type": "histogram2d"
           }
          ],
          "histogram2dcontour": [
           {
            "colorbar": {
             "outlinewidth": 0,
             "ticks": ""
            },
            "colorscale": [
             [
              0,
              "#0d0887"
             ],
             [
              0.1111111111111111,
              "#46039f"
             ],
             [
              0.2222222222222222,
              "#7201a8"
             ],
             [
              0.3333333333333333,
              "#9c179e"
             ],
             [
              0.4444444444444444,
              "#bd3786"
             ],
             [
              0.5555555555555556,
              "#d8576b"
             ],
             [
              0.6666666666666666,
              "#ed7953"
             ],
             [
              0.7777777777777778,
              "#fb9f3a"
             ],
             [
              0.8888888888888888,
              "#fdca26"
             ],
             [
              1,
              "#f0f921"
             ]
            ],
            "type": "histogram2dcontour"
           }
          ],
          "mesh3d": [
           {
            "colorbar": {
             "outlinewidth": 0,
             "ticks": ""
            },
            "type": "mesh3d"
           }
          ],
          "parcoords": [
           {
            "line": {
             "colorbar": {
              "outlinewidth": 0,
              "ticks": ""
             }
            },
            "type": "parcoords"
           }
          ],
          "pie": [
           {
            "automargin": true,
            "type": "pie"
           }
          ],
          "scatter": [
           {
            "fillpattern": {
             "fillmode": "overlay",
             "size": 10,
             "solidity": 0.2
            },
            "type": "scatter"
           }
          ],
          "scatter3d": [
           {
            "line": {
             "colorbar": {
              "outlinewidth": 0,
              "ticks": ""
             }
            },
            "marker": {
             "colorbar": {
              "outlinewidth": 0,
              "ticks": ""
             }
            },
            "type": "scatter3d"
           }
          ],
          "scattercarpet": [
           {
            "marker": {
             "colorbar": {
              "outlinewidth": 0,
              "ticks": ""
             }
            },
            "type": "scattercarpet"
           }
          ],
          "scattergeo": [
           {
            "marker": {
             "colorbar": {
              "outlinewidth": 0,
              "ticks": ""
             }
            },
            "type": "scattergeo"
           }
          ],
          "scattergl": [
           {
            "marker": {
             "colorbar": {
              "outlinewidth": 0,
              "ticks": ""
             }
            },
            "type": "scattergl"
           }
          ],
          "scattermapbox": [
           {
            "marker": {
             "colorbar": {
              "outlinewidth": 0,
              "ticks": ""
             }
            },
            "type": "scattermapbox"
           }
          ],
          "scatterpolar": [
           {
            "marker": {
             "colorbar": {
              "outlinewidth": 0,
              "ticks": ""
             }
            },
            "type": "scatterpolar"
           }
          ],
          "scatterpolargl": [
           {
            "marker": {
             "colorbar": {
              "outlinewidth": 0,
              "ticks": ""
             }
            },
            "type": "scatterpolargl"
           }
          ],
          "scatterternary": [
           {
            "marker": {
             "colorbar": {
              "outlinewidth": 0,
              "ticks": ""
             }
            },
            "type": "scatterternary"
           }
          ],
          "surface": [
           {
            "colorbar": {
             "outlinewidth": 0,
             "ticks": ""
            },
            "colorscale": [
             [
              0,
              "#0d0887"
             ],
             [
              0.1111111111111111,
              "#46039f"
             ],
             [
              0.2222222222222222,
              "#7201a8"
             ],
             [
              0.3333333333333333,
              "#9c179e"
             ],
             [
              0.4444444444444444,
              "#bd3786"
             ],
             [
              0.5555555555555556,
              "#d8576b"
             ],
             [
              0.6666666666666666,
              "#ed7953"
             ],
             [
              0.7777777777777778,
              "#fb9f3a"
             ],
             [
              0.8888888888888888,
              "#fdca26"
             ],
             [
              1,
              "#f0f921"
             ]
            ],
            "type": "surface"
           }
          ],
          "table": [
           {
            "cells": {
             "fill": {
              "color": "#EBF0F8"
             },
             "line": {
              "color": "white"
             }
            },
            "header": {
             "fill": {
              "color": "#C8D4E3"
             },
             "line": {
              "color": "white"
             }
            },
            "type": "table"
           }
          ]
         },
         "layout": {
          "annotationdefaults": {
           "arrowcolor": "#2a3f5f",
           "arrowhead": 0,
           "arrowwidth": 1
          },
          "autotypenumbers": "strict",
          "coloraxis": {
           "colorbar": {
            "outlinewidth": 0,
            "ticks": ""
           }
          },
          "colorscale": {
           "diverging": [
            [
             0,
             "#8e0152"
            ],
            [
             0.1,
             "#c51b7d"
            ],
            [
             0.2,
             "#de77ae"
            ],
            [
             0.3,
             "#f1b6da"
            ],
            [
             0.4,
             "#fde0ef"
            ],
            [
             0.5,
             "#f7f7f7"
            ],
            [
             0.6,
             "#e6f5d0"
            ],
            [
             0.7,
             "#b8e186"
            ],
            [
             0.8,
             "#7fbc41"
            ],
            [
             0.9,
             "#4d9221"
            ],
            [
             1,
             "#276419"
            ]
           ],
           "sequential": [
            [
             0,
             "#0d0887"
            ],
            [
             0.1111111111111111,
             "#46039f"
            ],
            [
             0.2222222222222222,
             "#7201a8"
            ],
            [
             0.3333333333333333,
             "#9c179e"
            ],
            [
             0.4444444444444444,
             "#bd3786"
            ],
            [
             0.5555555555555556,
             "#d8576b"
            ],
            [
             0.6666666666666666,
             "#ed7953"
            ],
            [
             0.7777777777777778,
             "#fb9f3a"
            ],
            [
             0.8888888888888888,
             "#fdca26"
            ],
            [
             1,
             "#f0f921"
            ]
           ],
           "sequentialminus": [
            [
             0,
             "#0d0887"
            ],
            [
             0.1111111111111111,
             "#46039f"
            ],
            [
             0.2222222222222222,
             "#7201a8"
            ],
            [
             0.3333333333333333,
             "#9c179e"
            ],
            [
             0.4444444444444444,
             "#bd3786"
            ],
            [
             0.5555555555555556,
             "#d8576b"
            ],
            [
             0.6666666666666666,
             "#ed7953"
            ],
            [
             0.7777777777777778,
             "#fb9f3a"
            ],
            [
             0.8888888888888888,
             "#fdca26"
            ],
            [
             1,
             "#f0f921"
            ]
           ]
          },
          "colorway": [
           "#636efa",
           "#EF553B",
           "#00cc96",
           "#ab63fa",
           "#FFA15A",
           "#19d3f3",
           "#FF6692",
           "#B6E880",
           "#FF97FF",
           "#FECB52"
          ],
          "font": {
           "color": "#2a3f5f"
          },
          "geo": {
           "bgcolor": "white",
           "lakecolor": "white",
           "landcolor": "#E5ECF6",
           "showlakes": true,
           "showland": true,
           "subunitcolor": "white"
          },
          "hoverlabel": {
           "align": "left"
          },
          "hovermode": "closest",
          "mapbox": {
           "style": "light"
          },
          "paper_bgcolor": "white",
          "plot_bgcolor": "#E5ECF6",
          "polar": {
           "angularaxis": {
            "gridcolor": "white",
            "linecolor": "white",
            "ticks": ""
           },
           "bgcolor": "#E5ECF6",
           "radialaxis": {
            "gridcolor": "white",
            "linecolor": "white",
            "ticks": ""
           }
          },
          "scene": {
           "xaxis": {
            "backgroundcolor": "#E5ECF6",
            "gridcolor": "white",
            "gridwidth": 2,
            "linecolor": "white",
            "showbackground": true,
            "ticks": "",
            "zerolinecolor": "white"
           },
           "yaxis": {
            "backgroundcolor": "#E5ECF6",
            "gridcolor": "white",
            "gridwidth": 2,
            "linecolor": "white",
            "showbackground": true,
            "ticks": "",
            "zerolinecolor": "white"
           },
           "zaxis": {
            "backgroundcolor": "#E5ECF6",
            "gridcolor": "white",
            "gridwidth": 2,
            "linecolor": "white",
            "showbackground": true,
            "ticks": "",
            "zerolinecolor": "white"
           }
          },
          "shapedefaults": {
           "line": {
            "color": "#2a3f5f"
           }
          },
          "ternary": {
           "aaxis": {
            "gridcolor": "white",
            "linecolor": "white",
            "ticks": ""
           },
           "baxis": {
            "gridcolor": "white",
            "linecolor": "white",
            "ticks": ""
           },
           "bgcolor": "#E5ECF6",
           "caxis": {
            "gridcolor": "white",
            "linecolor": "white",
            "ticks": ""
           }
          },
          "title": {
           "x": 0.05
          },
          "xaxis": {
           "automargin": true,
           "gridcolor": "white",
           "linecolor": "white",
           "ticks": "",
           "title": {
            "standoff": 15
           },
           "zerolinecolor": "white",
           "zerolinewidth": 2
          },
          "yaxis": {
           "automargin": true,
           "gridcolor": "white",
           "linecolor": "white",
           "ticks": "",
           "title": {
            "standoff": 15
           },
           "zerolinecolor": "white",
           "zerolinewidth": 2
          }
         }
        },
        "title": {
         "text": "Age distribution of the students"
        },
        "xaxis": {
         "anchor": "y",
         "domain": [
          0,
          1
         ],
         "title": {
          "text": "Age"
         }
        },
        "yaxis": {
         "anchor": "x",
         "domain": [
          0,
          1
         ],
         "title": {
          "text": "count"
         }
        }
       }
      }
     },
     "metadata": {},
     "output_type": "display_data"
    }
   ],
   "source": [
    "# Build a histogram of the Age column\n",
    "fig = px.histogram(\n",
    "    data_frame=students, \n",
    "    x='Age', \n",
    "    color='Academic',\n",
    "    title='Age distribution of the students'\n",
    ")\n",
    "fig.show()"
   ]
  },
  {
   "cell_type": "markdown",
   "metadata": {},
   "source": [
    "The age of participants varied between 17 and 31 years old, with the average age being approximately 21 years. The age distribution is skewed towards the right, meaning that there are more participants on the older end of the age range. The majority of students fell within the 18-21 age bracket. This pattern can be attributed to the fact that a small percentage (7.84%) of the participants were graduate students, who tend to be older than the larger group (92.16%) of undergraduate students surveyed"
   ]
  },
  {
   "cell_type": "code",
   "execution_count": 11,
   "metadata": {},
   "outputs": [
    {
     "data": {
      "application/vnd.plotly.v1+json": {
       "config": {
        "plotlyServerURL": "https://plot.ly"
       },
       "data": [
        {
         "alignmentgroup": "True",
         "bingroup": "x",
         "hovertemplate": "Stay duration=%{x}<br>count=%{y}<extra></extra>",
         "legendgroup": "",
         "marker": {
          "color": "#636efa",
          "pattern": {
           "shape": ""
          }
         },
         "name": "",
         "offsetgroup": "",
         "orientation": "v",
         "showlegend": false,
         "type": "histogram",
         "x": [
          5,
          1,
          6,
          1,
          1,
          6,
          1,
          2,
          4,
          2,
          1,
          1,
          1,
          1,
          1,
          1,
          1,
          1,
          1,
          3,
          1,
          1,
          1,
          3,
          1,
          8,
          2,
          1,
          2,
          1,
          1,
          2,
          2,
          2,
          1,
          4,
          3,
          1,
          10,
          3,
          1,
          2,
          1,
          1,
          3,
          3,
          2,
          2,
          2,
          3,
          3,
          3,
          4,
          2,
          1,
          3,
          2,
          1,
          2,
          1,
          1,
          4,
          3,
          1,
          2,
          1,
          3,
          2,
          1,
          1,
          2,
          1,
          3,
          1,
          3,
          3,
          2,
          3,
          1,
          1,
          1,
          1,
          1,
          3,
          4,
          4,
          2,
          1,
          2,
          1,
          2,
          2,
          1,
          4,
          1,
          2,
          2,
          1,
          3,
          2,
          1,
          3,
          3,
          3,
          2,
          1,
          2,
          3,
          1,
          1,
          1,
          1,
          1,
          2,
          3,
          3,
          3,
          3,
          3,
          2,
          2,
          1,
          1,
          1,
          3,
          1,
          1,
          6,
          1,
          1,
          2,
          1,
          1,
          3,
          4,
          3,
          3,
          3,
          3,
          1,
          4,
          3,
          3,
          1,
          2,
          1,
          1,
          1,
          1,
          2,
          1,
          1,
          2,
          1,
          1,
          4,
          3,
          1,
          3,
          1,
          1,
          1,
          1,
          1,
          1,
          1,
          1,
          1,
          3,
          1,
          1,
          2,
          3,
          1,
          3,
          2,
          3,
          4,
          1,
          1,
          1,
          1,
          2,
          1,
          1,
          3,
          4,
          4,
          1,
          4,
          1,
          7,
          1,
          3,
          2,
          3,
          3,
          1,
          3,
          1,
          2,
          2,
          1,
          3,
          3,
          3,
          3,
          1,
          4,
          4,
          3,
          3,
          3,
          3,
          2,
          3,
          2,
          2,
          4,
          1,
          3,
          1,
          2,
          4,
          1,
          1,
          1,
          1,
          1,
          2,
          3,
          1,
          2,
          3,
          3,
          1,
          3,
          1,
          3,
          2,
          3,
          3,
          1,
          2,
          3,
          2,
          5,
          4,
          3,
          1,
          4,
          5,
          3,
          1,
          3,
          4,
          2,
          1,
          1,
          1,
          2,
          3,
          4,
          4,
          3,
          1,
          1,
          2
         ],
         "xaxis": "x",
         "yaxis": "y"
        }
       ],
       "layout": {
        "barmode": "relative",
        "legend": {
         "tracegroupgap": 0
        },
        "template": {
         "data": {
          "bar": [
           {
            "error_x": {
             "color": "#2a3f5f"
            },
            "error_y": {
             "color": "#2a3f5f"
            },
            "marker": {
             "line": {
              "color": "#E5ECF6",
              "width": 0.5
             },
             "pattern": {
              "fillmode": "overlay",
              "size": 10,
              "solidity": 0.2
             }
            },
            "type": "bar"
           }
          ],
          "barpolar": [
           {
            "marker": {
             "line": {
              "color": "#E5ECF6",
              "width": 0.5
             },
             "pattern": {
              "fillmode": "overlay",
              "size": 10,
              "solidity": 0.2
             }
            },
            "type": "barpolar"
           }
          ],
          "carpet": [
           {
            "aaxis": {
             "endlinecolor": "#2a3f5f",
             "gridcolor": "white",
             "linecolor": "white",
             "minorgridcolor": "white",
             "startlinecolor": "#2a3f5f"
            },
            "baxis": {
             "endlinecolor": "#2a3f5f",
             "gridcolor": "white",
             "linecolor": "white",
             "minorgridcolor": "white",
             "startlinecolor": "#2a3f5f"
            },
            "type": "carpet"
           }
          ],
          "choropleth": [
           {
            "colorbar": {
             "outlinewidth": 0,
             "ticks": ""
            },
            "type": "choropleth"
           }
          ],
          "contour": [
           {
            "colorbar": {
             "outlinewidth": 0,
             "ticks": ""
            },
            "colorscale": [
             [
              0,
              "#0d0887"
             ],
             [
              0.1111111111111111,
              "#46039f"
             ],
             [
              0.2222222222222222,
              "#7201a8"
             ],
             [
              0.3333333333333333,
              "#9c179e"
             ],
             [
              0.4444444444444444,
              "#bd3786"
             ],
             [
              0.5555555555555556,
              "#d8576b"
             ],
             [
              0.6666666666666666,
              "#ed7953"
             ],
             [
              0.7777777777777778,
              "#fb9f3a"
             ],
             [
              0.8888888888888888,
              "#fdca26"
             ],
             [
              1,
              "#f0f921"
             ]
            ],
            "type": "contour"
           }
          ],
          "contourcarpet": [
           {
            "colorbar": {
             "outlinewidth": 0,
             "ticks": ""
            },
            "type": "contourcarpet"
           }
          ],
          "heatmap": [
           {
            "colorbar": {
             "outlinewidth": 0,
             "ticks": ""
            },
            "colorscale": [
             [
              0,
              "#0d0887"
             ],
             [
              0.1111111111111111,
              "#46039f"
             ],
             [
              0.2222222222222222,
              "#7201a8"
             ],
             [
              0.3333333333333333,
              "#9c179e"
             ],
             [
              0.4444444444444444,
              "#bd3786"
             ],
             [
              0.5555555555555556,
              "#d8576b"
             ],
             [
              0.6666666666666666,
              "#ed7953"
             ],
             [
              0.7777777777777778,
              "#fb9f3a"
             ],
             [
              0.8888888888888888,
              "#fdca26"
             ],
             [
              1,
              "#f0f921"
             ]
            ],
            "type": "heatmap"
           }
          ],
          "heatmapgl": [
           {
            "colorbar": {
             "outlinewidth": 0,
             "ticks": ""
            },
            "colorscale": [
             [
              0,
              "#0d0887"
             ],
             [
              0.1111111111111111,
              "#46039f"
             ],
             [
              0.2222222222222222,
              "#7201a8"
             ],
             [
              0.3333333333333333,
              "#9c179e"
             ],
             [
              0.4444444444444444,
              "#bd3786"
             ],
             [
              0.5555555555555556,
              "#d8576b"
             ],
             [
              0.6666666666666666,
              "#ed7953"
             ],
             [
              0.7777777777777778,
              "#fb9f3a"
             ],
             [
              0.8888888888888888,
              "#fdca26"
             ],
             [
              1,
              "#f0f921"
             ]
            ],
            "type": "heatmapgl"
           }
          ],
          "histogram": [
           {
            "marker": {
             "pattern": {
              "fillmode": "overlay",
              "size": 10,
              "solidity": 0.2
             }
            },
            "type": "histogram"
           }
          ],
          "histogram2d": [
           {
            "colorbar": {
             "outlinewidth": 0,
             "ticks": ""
            },
            "colorscale": [
             [
              0,
              "#0d0887"
             ],
             [
              0.1111111111111111,
              "#46039f"
             ],
             [
              0.2222222222222222,
              "#7201a8"
             ],
             [
              0.3333333333333333,
              "#9c179e"
             ],
             [
              0.4444444444444444,
              "#bd3786"
             ],
             [
              0.5555555555555556,
              "#d8576b"
             ],
             [
              0.6666666666666666,
              "#ed7953"
             ],
             [
              0.7777777777777778,
              "#fb9f3a"
             ],
             [
              0.8888888888888888,
              "#fdca26"
             ],
             [
              1,
              "#f0f921"
             ]
            ],
            "type": "histogram2d"
           }
          ],
          "histogram2dcontour": [
           {
            "colorbar": {
             "outlinewidth": 0,
             "ticks": ""
            },
            "colorscale": [
             [
              0,
              "#0d0887"
             ],
             [
              0.1111111111111111,
              "#46039f"
             ],
             [
              0.2222222222222222,
              "#7201a8"
             ],
             [
              0.3333333333333333,
              "#9c179e"
             ],
             [
              0.4444444444444444,
              "#bd3786"
             ],
             [
              0.5555555555555556,
              "#d8576b"
             ],
             [
              0.6666666666666666,
              "#ed7953"
             ],
             [
              0.7777777777777778,
              "#fb9f3a"
             ],
             [
              0.8888888888888888,
              "#fdca26"
             ],
             [
              1,
              "#f0f921"
             ]
            ],
            "type": "histogram2dcontour"
           }
          ],
          "mesh3d": [
           {
            "colorbar": {
             "outlinewidth": 0,
             "ticks": ""
            },
            "type": "mesh3d"
           }
          ],
          "parcoords": [
           {
            "line": {
             "colorbar": {
              "outlinewidth": 0,
              "ticks": ""
             }
            },
            "type": "parcoords"
           }
          ],
          "pie": [
           {
            "automargin": true,
            "type": "pie"
           }
          ],
          "scatter": [
           {
            "fillpattern": {
             "fillmode": "overlay",
             "size": 10,
             "solidity": 0.2
            },
            "type": "scatter"
           }
          ],
          "scatter3d": [
           {
            "line": {
             "colorbar": {
              "outlinewidth": 0,
              "ticks": ""
             }
            },
            "marker": {
             "colorbar": {
              "outlinewidth": 0,
              "ticks": ""
             }
            },
            "type": "scatter3d"
           }
          ],
          "scattercarpet": [
           {
            "marker": {
             "colorbar": {
              "outlinewidth": 0,
              "ticks": ""
             }
            },
            "type": "scattercarpet"
           }
          ],
          "scattergeo": [
           {
            "marker": {
             "colorbar": {
              "outlinewidth": 0,
              "ticks": ""
             }
            },
            "type": "scattergeo"
           }
          ],
          "scattergl": [
           {
            "marker": {
             "colorbar": {
              "outlinewidth": 0,
              "ticks": ""
             }
            },
            "type": "scattergl"
           }
          ],
          "scattermapbox": [
           {
            "marker": {
             "colorbar": {
              "outlinewidth": 0,
              "ticks": ""
             }
            },
            "type": "scattermapbox"
           }
          ],
          "scatterpolar": [
           {
            "marker": {
             "colorbar": {
              "outlinewidth": 0,
              "ticks": ""
             }
            },
            "type": "scatterpolar"
           }
          ],
          "scatterpolargl": [
           {
            "marker": {
             "colorbar": {
              "outlinewidth": 0,
              "ticks": ""
             }
            },
            "type": "scatterpolargl"
           }
          ],
          "scatterternary": [
           {
            "marker": {
             "colorbar": {
              "outlinewidth": 0,
              "ticks": ""
             }
            },
            "type": "scatterternary"
           }
          ],
          "surface": [
           {
            "colorbar": {
             "outlinewidth": 0,
             "ticks": ""
            },
            "colorscale": [
             [
              0,
              "#0d0887"
             ],
             [
              0.1111111111111111,
              "#46039f"
             ],
             [
              0.2222222222222222,
              "#7201a8"
             ],
             [
              0.3333333333333333,
              "#9c179e"
             ],
             [
              0.4444444444444444,
              "#bd3786"
             ],
             [
              0.5555555555555556,
              "#d8576b"
             ],
             [
              0.6666666666666666,
              "#ed7953"
             ],
             [
              0.7777777777777778,
              "#fb9f3a"
             ],
             [
              0.8888888888888888,
              "#fdca26"
             ],
             [
              1,
              "#f0f921"
             ]
            ],
            "type": "surface"
           }
          ],
          "table": [
           {
            "cells": {
             "fill": {
              "color": "#EBF0F8"
             },
             "line": {
              "color": "white"
             }
            },
            "header": {
             "fill": {
              "color": "#C8D4E3"
             },
             "line": {
              "color": "white"
             }
            },
            "type": "table"
           }
          ]
         },
         "layout": {
          "annotationdefaults": {
           "arrowcolor": "#2a3f5f",
           "arrowhead": 0,
           "arrowwidth": 1
          },
          "autotypenumbers": "strict",
          "coloraxis": {
           "colorbar": {
            "outlinewidth": 0,
            "ticks": ""
           }
          },
          "colorscale": {
           "diverging": [
            [
             0,
             "#8e0152"
            ],
            [
             0.1,
             "#c51b7d"
            ],
            [
             0.2,
             "#de77ae"
            ],
            [
             0.3,
             "#f1b6da"
            ],
            [
             0.4,
             "#fde0ef"
            ],
            [
             0.5,
             "#f7f7f7"
            ],
            [
             0.6,
             "#e6f5d0"
            ],
            [
             0.7,
             "#b8e186"
            ],
            [
             0.8,
             "#7fbc41"
            ],
            [
             0.9,
             "#4d9221"
            ],
            [
             1,
             "#276419"
            ]
           ],
           "sequential": [
            [
             0,
             "#0d0887"
            ],
            [
             0.1111111111111111,
             "#46039f"
            ],
            [
             0.2222222222222222,
             "#7201a8"
            ],
            [
             0.3333333333333333,
             "#9c179e"
            ],
            [
             0.4444444444444444,
             "#bd3786"
            ],
            [
             0.5555555555555556,
             "#d8576b"
            ],
            [
             0.6666666666666666,
             "#ed7953"
            ],
            [
             0.7777777777777778,
             "#fb9f3a"
            ],
            [
             0.8888888888888888,
             "#fdca26"
            ],
            [
             1,
             "#f0f921"
            ]
           ],
           "sequentialminus": [
            [
             0,
             "#0d0887"
            ],
            [
             0.1111111111111111,
             "#46039f"
            ],
            [
             0.2222222222222222,
             "#7201a8"
            ],
            [
             0.3333333333333333,
             "#9c179e"
            ],
            [
             0.4444444444444444,
             "#bd3786"
            ],
            [
             0.5555555555555556,
             "#d8576b"
            ],
            [
             0.6666666666666666,
             "#ed7953"
            ],
            [
             0.7777777777777778,
             "#fb9f3a"
            ],
            [
             0.8888888888888888,
             "#fdca26"
            ],
            [
             1,
             "#f0f921"
            ]
           ]
          },
          "colorway": [
           "#636efa",
           "#EF553B",
           "#00cc96",
           "#ab63fa",
           "#FFA15A",
           "#19d3f3",
           "#FF6692",
           "#B6E880",
           "#FF97FF",
           "#FECB52"
          ],
          "font": {
           "color": "#2a3f5f"
          },
          "geo": {
           "bgcolor": "white",
           "lakecolor": "white",
           "landcolor": "#E5ECF6",
           "showlakes": true,
           "showland": true,
           "subunitcolor": "white"
          },
          "hoverlabel": {
           "align": "left"
          },
          "hovermode": "closest",
          "mapbox": {
           "style": "light"
          },
          "paper_bgcolor": "white",
          "plot_bgcolor": "#E5ECF6",
          "polar": {
           "angularaxis": {
            "gridcolor": "white",
            "linecolor": "white",
            "ticks": ""
           },
           "bgcolor": "#E5ECF6",
           "radialaxis": {
            "gridcolor": "white",
            "linecolor": "white",
            "ticks": ""
           }
          },
          "scene": {
           "xaxis": {
            "backgroundcolor": "#E5ECF6",
            "gridcolor": "white",
            "gridwidth": 2,
            "linecolor": "white",
            "showbackground": true,
            "ticks": "",
            "zerolinecolor": "white"
           },
           "yaxis": {
            "backgroundcolor": "#E5ECF6",
            "gridcolor": "white",
            "gridwidth": 2,
            "linecolor": "white",
            "showbackground": true,
            "ticks": "",
            "zerolinecolor": "white"
           },
           "zaxis": {
            "backgroundcolor": "#E5ECF6",
            "gridcolor": "white",
            "gridwidth": 2,
            "linecolor": "white",
            "showbackground": true,
            "ticks": "",
            "zerolinecolor": "white"
           }
          },
          "shapedefaults": {
           "line": {
            "color": "#2a3f5f"
           }
          },
          "ternary": {
           "aaxis": {
            "gridcolor": "white",
            "linecolor": "white",
            "ticks": ""
           },
           "baxis": {
            "gridcolor": "white",
            "linecolor": "white",
            "ticks": ""
           },
           "bgcolor": "#E5ECF6",
           "caxis": {
            "gridcolor": "white",
            "linecolor": "white",
            "ticks": ""
           }
          },
          "title": {
           "x": 0.05
          },
          "xaxis": {
           "automargin": true,
           "gridcolor": "white",
           "linecolor": "white",
           "ticks": "",
           "title": {
            "standoff": 15
           },
           "zerolinecolor": "white",
           "zerolinewidth": 2
          },
          "yaxis": {
           "automargin": true,
           "gridcolor": "white",
           "linecolor": "white",
           "ticks": "",
           "title": {
            "standoff": 15
           },
           "zerolinecolor": "white",
           "zerolinewidth": 2
          }
         }
        },
        "title": {
         "text": "Stay distribution of the students"
        },
        "xaxis": {
         "anchor": "y",
         "domain": [
          0,
          1
         ],
         "title": {
          "text": "Stay duration"
         }
        },
        "yaxis": {
         "anchor": "x",
         "domain": [
          0,
          1
         ],
         "title": {
          "text": "count"
         }
        }
       }
      }
     },
     "metadata": {},
     "output_type": "display_data"
    }
   ],
   "source": [
    "# Build a histogram on the Stay column\n",
    "fig = px.histogram(\n",
    "    data_frame=students, \n",
    "    x='Stay', \n",
    "    title='Stay distribution of the students',\n",
    "    labels={'Stay': 'Stay duration'}\n",
    ")\n",
    "fig.show()"
   ]
  },
  {
   "cell_type": "markdown",
   "metadata": {},
   "source": [
    "Until the reported time, most participants had been in this university for1 to 3 years."
   ]
  },
  {
   "cell_type": "code",
   "execution_count": 12,
   "metadata": {},
   "outputs": [
    {
     "data": {
      "application/vnd.plotly.v1+json": {
       "config": {
        "plotlyServerURL": "https://plot.ly"
       },
       "data": [
        {
         "alignmentgroup": "True",
         "hovertemplate": "English level=%{x}<br>Percentage=%{y}<extra></extra>",
         "legendgroup": "",
         "marker": {
          "color": "#636efa",
          "pattern": {
           "shape": ""
          }
         },
         "name": "",
         "offsetgroup": "",
         "orientation": "v",
         "showlegend": false,
         "textposition": "auto",
         "type": "bar",
         "x": [
          "High",
          "Average",
          "Low"
         ],
         "xaxis": "x",
         "y": [
          0.6194029850746269,
          0.29850746268656714,
          0.08208955223880597
         ],
         "yaxis": "y"
        },
        {
         "alignmentgroup": "True",
         "hovertemplate": "Japanese level=%{x}<br>Percentage=%{y}<extra></extra>",
         "legendgroup": "",
         "marker": {
          "color": "#636efa",
          "pattern": {
           "shape": ""
          }
         },
         "name": "",
         "offsetgroup": "",
         "orientation": "v",
         "showlegend": false,
         "textposition": "auto",
         "type": "bar",
         "x": [
          "Low",
          "Average",
          "High"
         ],
         "xaxis": "x2",
         "y": [
          0.34328358208955223,
          0.332089552238806,
          0.3246268656716418
         ],
         "yaxis": "y2"
        }
       ],
       "layout": {
        "annotations": [
         {
          "font": {
           "size": 16
          },
          "showarrow": false,
          "text": "English level of the students",
          "x": 0.225,
          "xanchor": "center",
          "xref": "paper",
          "y": 1,
          "yanchor": "bottom",
          "yref": "paper"
         },
         {
          "font": {
           "size": 16
          },
          "showarrow": false,
          "text": "Japanese level of the students",
          "x": 0.775,
          "xanchor": "center",
          "xref": "paper",
          "y": 1,
          "yanchor": "bottom",
          "yref": "paper"
         }
        ],
        "showlegend": false,
        "template": {
         "data": {
          "bar": [
           {
            "error_x": {
             "color": "#2a3f5f"
            },
            "error_y": {
             "color": "#2a3f5f"
            },
            "marker": {
             "line": {
              "color": "#E5ECF6",
              "width": 0.5
             },
             "pattern": {
              "fillmode": "overlay",
              "size": 10,
              "solidity": 0.2
             }
            },
            "type": "bar"
           }
          ],
          "barpolar": [
           {
            "marker": {
             "line": {
              "color": "#E5ECF6",
              "width": 0.5
             },
             "pattern": {
              "fillmode": "overlay",
              "size": 10,
              "solidity": 0.2
             }
            },
            "type": "barpolar"
           }
          ],
          "carpet": [
           {
            "aaxis": {
             "endlinecolor": "#2a3f5f",
             "gridcolor": "white",
             "linecolor": "white",
             "minorgridcolor": "white",
             "startlinecolor": "#2a3f5f"
            },
            "baxis": {
             "endlinecolor": "#2a3f5f",
             "gridcolor": "white",
             "linecolor": "white",
             "minorgridcolor": "white",
             "startlinecolor": "#2a3f5f"
            },
            "type": "carpet"
           }
          ],
          "choropleth": [
           {
            "colorbar": {
             "outlinewidth": 0,
             "ticks": ""
            },
            "type": "choropleth"
           }
          ],
          "contour": [
           {
            "colorbar": {
             "outlinewidth": 0,
             "ticks": ""
            },
            "colorscale": [
             [
              0,
              "#0d0887"
             ],
             [
              0.1111111111111111,
              "#46039f"
             ],
             [
              0.2222222222222222,
              "#7201a8"
             ],
             [
              0.3333333333333333,
              "#9c179e"
             ],
             [
              0.4444444444444444,
              "#bd3786"
             ],
             [
              0.5555555555555556,
              "#d8576b"
             ],
             [
              0.6666666666666666,
              "#ed7953"
             ],
             [
              0.7777777777777778,
              "#fb9f3a"
             ],
             [
              0.8888888888888888,
              "#fdca26"
             ],
             [
              1,
              "#f0f921"
             ]
            ],
            "type": "contour"
           }
          ],
          "contourcarpet": [
           {
            "colorbar": {
             "outlinewidth": 0,
             "ticks": ""
            },
            "type": "contourcarpet"
           }
          ],
          "heatmap": [
           {
            "colorbar": {
             "outlinewidth": 0,
             "ticks": ""
            },
            "colorscale": [
             [
              0,
              "#0d0887"
             ],
             [
              0.1111111111111111,
              "#46039f"
             ],
             [
              0.2222222222222222,
              "#7201a8"
             ],
             [
              0.3333333333333333,
              "#9c179e"
             ],
             [
              0.4444444444444444,
              "#bd3786"
             ],
             [
              0.5555555555555556,
              "#d8576b"
             ],
             [
              0.6666666666666666,
              "#ed7953"
             ],
             [
              0.7777777777777778,
              "#fb9f3a"
             ],
             [
              0.8888888888888888,
              "#fdca26"
             ],
             [
              1,
              "#f0f921"
             ]
            ],
            "type": "heatmap"
           }
          ],
          "heatmapgl": [
           {
            "colorbar": {
             "outlinewidth": 0,
             "ticks": ""
            },
            "colorscale": [
             [
              0,
              "#0d0887"
             ],
             [
              0.1111111111111111,
              "#46039f"
             ],
             [
              0.2222222222222222,
              "#7201a8"
             ],
             [
              0.3333333333333333,
              "#9c179e"
             ],
             [
              0.4444444444444444,
              "#bd3786"
             ],
             [
              0.5555555555555556,
              "#d8576b"
             ],
             [
              0.6666666666666666,
              "#ed7953"
             ],
             [
              0.7777777777777778,
              "#fb9f3a"
             ],
             [
              0.8888888888888888,
              "#fdca26"
             ],
             [
              1,
              "#f0f921"
             ]
            ],
            "type": "heatmapgl"
           }
          ],
          "histogram": [
           {
            "marker": {
             "pattern": {
              "fillmode": "overlay",
              "size": 10,
              "solidity": 0.2
             }
            },
            "type": "histogram"
           }
          ],
          "histogram2d": [
           {
            "colorbar": {
             "outlinewidth": 0,
             "ticks": ""
            },
            "colorscale": [
             [
              0,
              "#0d0887"
             ],
             [
              0.1111111111111111,
              "#46039f"
             ],
             [
              0.2222222222222222,
              "#7201a8"
             ],
             [
              0.3333333333333333,
              "#9c179e"
             ],
             [
              0.4444444444444444,
              "#bd3786"
             ],
             [
              0.5555555555555556,
              "#d8576b"
             ],
             [
              0.6666666666666666,
              "#ed7953"
             ],
             [
              0.7777777777777778,
              "#fb9f3a"
             ],
             [
              0.8888888888888888,
              "#fdca26"
             ],
             [
              1,
              "#f0f921"
             ]
            ],
            "type": "histogram2d"
           }
          ],
          "histogram2dcontour": [
           {
            "colorbar": {
             "outlinewidth": 0,
             "ticks": ""
            },
            "colorscale": [
             [
              0,
              "#0d0887"
             ],
             [
              0.1111111111111111,
              "#46039f"
             ],
             [
              0.2222222222222222,
              "#7201a8"
             ],
             [
              0.3333333333333333,
              "#9c179e"
             ],
             [
              0.4444444444444444,
              "#bd3786"
             ],
             [
              0.5555555555555556,
              "#d8576b"
             ],
             [
              0.6666666666666666,
              "#ed7953"
             ],
             [
              0.7777777777777778,
              "#fb9f3a"
             ],
             [
              0.8888888888888888,
              "#fdca26"
             ],
             [
              1,
              "#f0f921"
             ]
            ],
            "type": "histogram2dcontour"
           }
          ],
          "mesh3d": [
           {
            "colorbar": {
             "outlinewidth": 0,
             "ticks": ""
            },
            "type": "mesh3d"
           }
          ],
          "parcoords": [
           {
            "line": {
             "colorbar": {
              "outlinewidth": 0,
              "ticks": ""
             }
            },
            "type": "parcoords"
           }
          ],
          "pie": [
           {
            "automargin": true,
            "type": "pie"
           }
          ],
          "scatter": [
           {
            "fillpattern": {
             "fillmode": "overlay",
             "size": 10,
             "solidity": 0.2
            },
            "type": "scatter"
           }
          ],
          "scatter3d": [
           {
            "line": {
             "colorbar": {
              "outlinewidth": 0,
              "ticks": ""
             }
            },
            "marker": {
             "colorbar": {
              "outlinewidth": 0,
              "ticks": ""
             }
            },
            "type": "scatter3d"
           }
          ],
          "scattercarpet": [
           {
            "marker": {
             "colorbar": {
              "outlinewidth": 0,
              "ticks": ""
             }
            },
            "type": "scattercarpet"
           }
          ],
          "scattergeo": [
           {
            "marker": {
             "colorbar": {
              "outlinewidth": 0,
              "ticks": ""
             }
            },
            "type": "scattergeo"
           }
          ],
          "scattergl": [
           {
            "marker": {
             "colorbar": {
              "outlinewidth": 0,
              "ticks": ""
             }
            },
            "type": "scattergl"
           }
          ],
          "scattermapbox": [
           {
            "marker": {
             "colorbar": {
              "outlinewidth": 0,
              "ticks": ""
             }
            },
            "type": "scattermapbox"
           }
          ],
          "scatterpolar": [
           {
            "marker": {
             "colorbar": {
              "outlinewidth": 0,
              "ticks": ""
             }
            },
            "type": "scatterpolar"
           }
          ],
          "scatterpolargl": [
           {
            "marker": {
             "colorbar": {
              "outlinewidth": 0,
              "ticks": ""
             }
            },
            "type": "scatterpolargl"
           }
          ],
          "scatterternary": [
           {
            "marker": {
             "colorbar": {
              "outlinewidth": 0,
              "ticks": ""
             }
            },
            "type": "scatterternary"
           }
          ],
          "surface": [
           {
            "colorbar": {
             "outlinewidth": 0,
             "ticks": ""
            },
            "colorscale": [
             [
              0,
              "#0d0887"
             ],
             [
              0.1111111111111111,
              "#46039f"
             ],
             [
              0.2222222222222222,
              "#7201a8"
             ],
             [
              0.3333333333333333,
              "#9c179e"
             ],
             [
              0.4444444444444444,
              "#bd3786"
             ],
             [
              0.5555555555555556,
              "#d8576b"
             ],
             [
              0.6666666666666666,
              "#ed7953"
             ],
             [
              0.7777777777777778,
              "#fb9f3a"
             ],
             [
              0.8888888888888888,
              "#fdca26"
             ],
             [
              1,
              "#f0f921"
             ]
            ],
            "type": "surface"
           }
          ],
          "table": [
           {
            "cells": {
             "fill": {
              "color": "#EBF0F8"
             },
             "line": {
              "color": "white"
             }
            },
            "header": {
             "fill": {
              "color": "#C8D4E3"
             },
             "line": {
              "color": "white"
             }
            },
            "type": "table"
           }
          ]
         },
         "layout": {
          "annotationdefaults": {
           "arrowcolor": "#2a3f5f",
           "arrowhead": 0,
           "arrowwidth": 1
          },
          "autotypenumbers": "strict",
          "coloraxis": {
           "colorbar": {
            "outlinewidth": 0,
            "ticks": ""
           }
          },
          "colorscale": {
           "diverging": [
            [
             0,
             "#8e0152"
            ],
            [
             0.1,
             "#c51b7d"
            ],
            [
             0.2,
             "#de77ae"
            ],
            [
             0.3,
             "#f1b6da"
            ],
            [
             0.4,
             "#fde0ef"
            ],
            [
             0.5,
             "#f7f7f7"
            ],
            [
             0.6,
             "#e6f5d0"
            ],
            [
             0.7,
             "#b8e186"
            ],
            [
             0.8,
             "#7fbc41"
            ],
            [
             0.9,
             "#4d9221"
            ],
            [
             1,
             "#276419"
            ]
           ],
           "sequential": [
            [
             0,
             "#0d0887"
            ],
            [
             0.1111111111111111,
             "#46039f"
            ],
            [
             0.2222222222222222,
             "#7201a8"
            ],
            [
             0.3333333333333333,
             "#9c179e"
            ],
            [
             0.4444444444444444,
             "#bd3786"
            ],
            [
             0.5555555555555556,
             "#d8576b"
            ],
            [
             0.6666666666666666,
             "#ed7953"
            ],
            [
             0.7777777777777778,
             "#fb9f3a"
            ],
            [
             0.8888888888888888,
             "#fdca26"
            ],
            [
             1,
             "#f0f921"
            ]
           ],
           "sequentialminus": [
            [
             0,
             "#0d0887"
            ],
            [
             0.1111111111111111,
             "#46039f"
            ],
            [
             0.2222222222222222,
             "#7201a8"
            ],
            [
             0.3333333333333333,
             "#9c179e"
            ],
            [
             0.4444444444444444,
             "#bd3786"
            ],
            [
             0.5555555555555556,
             "#d8576b"
            ],
            [
             0.6666666666666666,
             "#ed7953"
            ],
            [
             0.7777777777777778,
             "#fb9f3a"
            ],
            [
             0.8888888888888888,
             "#fdca26"
            ],
            [
             1,
             "#f0f921"
            ]
           ]
          },
          "colorway": [
           "#636efa",
           "#EF553B",
           "#00cc96",
           "#ab63fa",
           "#FFA15A",
           "#19d3f3",
           "#FF6692",
           "#B6E880",
           "#FF97FF",
           "#FECB52"
          ],
          "font": {
           "color": "#2a3f5f"
          },
          "geo": {
           "bgcolor": "white",
           "lakecolor": "white",
           "landcolor": "#E5ECF6",
           "showlakes": true,
           "showland": true,
           "subunitcolor": "white"
          },
          "hoverlabel": {
           "align": "left"
          },
          "hovermode": "closest",
          "mapbox": {
           "style": "light"
          },
          "paper_bgcolor": "white",
          "plot_bgcolor": "#E5ECF6",
          "polar": {
           "angularaxis": {
            "gridcolor": "white",
            "linecolor": "white",
            "ticks": ""
           },
           "bgcolor": "#E5ECF6",
           "radialaxis": {
            "gridcolor": "white",
            "linecolor": "white",
            "ticks": ""
           }
          },
          "scene": {
           "xaxis": {
            "backgroundcolor": "#E5ECF6",
            "gridcolor": "white",
            "gridwidth": 2,
            "linecolor": "white",
            "showbackground": true,
            "ticks": "",
            "zerolinecolor": "white"
           },
           "yaxis": {
            "backgroundcolor": "#E5ECF6",
            "gridcolor": "white",
            "gridwidth": 2,
            "linecolor": "white",
            "showbackground": true,
            "ticks": "",
            "zerolinecolor": "white"
           },
           "zaxis": {
            "backgroundcolor": "#E5ECF6",
            "gridcolor": "white",
            "gridwidth": 2,
            "linecolor": "white",
            "showbackground": true,
            "ticks": "",
            "zerolinecolor": "white"
           }
          },
          "shapedefaults": {
           "line": {
            "color": "#2a3f5f"
           }
          },
          "ternary": {
           "aaxis": {
            "gridcolor": "white",
            "linecolor": "white",
            "ticks": ""
           },
           "baxis": {
            "gridcolor": "white",
            "linecolor": "white",
            "ticks": ""
           },
           "bgcolor": "#E5ECF6",
           "caxis": {
            "gridcolor": "white",
            "linecolor": "white",
            "ticks": ""
           }
          },
          "title": {
           "x": 0.05
          },
          "xaxis": {
           "automargin": true,
           "gridcolor": "white",
           "linecolor": "white",
           "ticks": "",
           "title": {
            "standoff": 15
           },
           "zerolinecolor": "white",
           "zerolinewidth": 2
          },
          "yaxis": {
           "automargin": true,
           "gridcolor": "white",
           "linecolor": "white",
           "ticks": "",
           "title": {
            "standoff": 15
           },
           "zerolinecolor": "white",
           "zerolinewidth": 2
          }
         }
        },
        "title": {
         "text": "Comparison of English and Japanese Levels of Students"
        },
        "xaxis": {
         "anchor": "y",
         "domain": [
          0,
          0.45
         ]
        },
        "xaxis2": {
         "anchor": "y2",
         "domain": [
          0.55,
          1
         ]
        },
        "yaxis": {
         "anchor": "x",
         "domain": [
          0,
          1
         ],
         "title": {
          "text": "Percentage"
         }
        },
        "yaxis2": {
         "anchor": "x2",
         "domain": [
          0,
          1
         ],
         "matches": "y",
         "showticklabels": false
        }
       }
      }
     },
     "metadata": {},
     "output_type": "display_data"
    }
   ],
   "source": [
    "def create_bar_chart(data, category_column, title, x_label, y_label='Percentage'):\n",
    "    percentages = data[category_column].value_counts(normalize=True).reset_index()\n",
    "    percentages.columns = [category_column, 'percentage']\n",
    "    \n",
    "    fig = px.bar(\n",
    "        data_frame=percentages,\n",
    "        x=category_column,\n",
    "        y='percentage',\n",
    "        title=title,\n",
    "        labels={category_column: x_label, 'percentage': y_label}\n",
    "    )\n",
    "    return fig\n",
    "\n",
    "# Create individual charts\n",
    "english_fig = create_bar_chart(students, 'English_cate', 'English level of the students', 'English level')\n",
    "japanese_fig = create_bar_chart(students, 'Japanese_cate', 'Japanese level of the students', 'Japanese level')\n",
    "\n",
    "# Create a subplot figure\n",
    "fig = make_subplots(\n",
    "    rows=1, \n",
    "    cols=2, \n",
    "    subplot_titles=(\n",
    "        'English level of the students', \n",
    "        'Japanese level of the students'\n",
    "    ),\n",
    "    shared_yaxes=True\n",
    ")\n",
    "\n",
    "# Add the bar charts to the subplot figure\n",
    "for trace in english_fig['data']:\n",
    "    fig.add_trace(trace, row=1, col=1)\n",
    "\n",
    "for trace in japanese_fig['data']:\n",
    "    fig.add_trace(trace, row=1, col=2)\n",
    "\n",
    "# Update layout\n",
    "fig.update_layout(\n",
    "    title_text='Comparison of English and Japanese Levels of Students',\n",
    "    showlegend=False,\n",
    "    yaxis_title='Percentage'\n",
    ")\n",
    "\n",
    "fig.show()"
   ]
  },
  {
   "cell_type": "markdown",
   "metadata": {},
   "source": [
    "Regarding language proficiency, a majority (61.94%) rated themselves as highly proficient (4 or 5 on a 1-5 scale) in English language ability. Japanese language ability was more varied, with ratings spread equally across low to high proficiency levels."
   ]
  },
  {
   "cell_type": "markdown",
   "metadata": {},
   "source": [
    "#### Demographic Conclusion\n",
    "1. Young adult learners with most participants being traditional undergraduate age.\n",
    "2. Highly diverse international representation, mostly from South East Asia.\n",
    "3. A noticeable gender imbalance, with female students outnumbering make students.\n",
    "4. Regarding language proficiency based on self-evaluation, most participants rated themselves as highly proficient in English, while Japanese language proficiency levels were varied across the group."
   ]
  },
  {
   "cell_type": "markdown",
   "metadata": {},
   "source": [
    "### Mental Health Conditions"
   ]
  },
  {
   "cell_type": "code",
   "execution_count": 13,
   "metadata": {},
   "outputs": [
    {
     "data": {
      "text/plain": [
       "Index(['inter_dom', 'Region', 'Gender', 'Academic', 'Age', 'Age_cate', 'Stay',\n",
       "       'Stay_Cate', 'Japanese', 'Japanese_cate', 'English', 'English_cate',\n",
       "       'Intimate', 'Religion', 'Suicide', 'Dep', 'DepType', 'ToDep', 'DepSev',\n",
       "       'ToSC', 'APD', 'AHome', 'APH', 'Afear', 'ACS', 'AGuilt', 'AMiscell',\n",
       "       'ToAS', 'Partner', 'Friends', 'Parents', 'Relative', 'Profess',\n",
       "       ' Phone', 'Doctor', 'Reli', 'Alone', 'Others', 'Internet', 'Partner_bi',\n",
       "       'Friends_bi', 'Parents_bi', 'Relative_bi', 'Professional_bi',\n",
       "       'Phone_bi', 'Doctor_bi', 'religion_bi', 'Alone_bi', 'Others_bi',\n",
       "       'Internet_bi'],\n",
       "      dtype='object')"
      ]
     },
     "execution_count": 13,
     "metadata": {},
     "output_type": "execute_result"
    }
   ],
   "source": [
    "# Show all the fields in the dataset\n",
    "students.columns"
   ]
  },
  {
   "cell_type": "code",
   "execution_count": 14,
   "metadata": {},
   "outputs": [
    {
     "data": {
      "application/vnd.plotly.v1+json": {
       "config": {
        "plotlyServerURL": "https://plot.ly"
       },
       "data": [
        {
         "alignmentgroup": "True",
         "hovertemplate": "International/Domestic=Inter<br>Total Acculturative Stress Score=%{x}<br>Depression Type=%{y}<extra></extra>",
         "legendgroup": "Inter",
         "marker": {
          "color": "#636efa"
         },
         "name": "Inter",
         "notched": false,
         "offsetgroup": "Inter",
         "orientation": "h",
         "showlegend": true,
         "type": "box",
         "x": [
          91,
          39,
          51,
          75,
          82,
          83,
          58,
          127,
          109,
          51,
          92,
          95,
          54,
          57,
          112,
          74,
          63,
          47,
          55,
          60,
          66,
          66,
          94,
          123,
          78,
          65,
          91,
          88,
          39,
          72,
          66,
          73,
          73,
          45,
          50,
          63,
          63,
          68,
          50,
          92,
          59,
          78,
          41,
          94,
          36,
          83,
          83,
          109,
          58,
          36,
          104,
          78,
          108,
          54,
          68,
          86,
          102,
          88,
          81,
          72,
          66,
          104,
          86,
          63,
          89,
          64,
          96,
          73,
          53,
          90,
          40,
          55,
          83,
          59,
          64,
          74,
          122,
          56,
          97,
          64,
          57,
          89,
          85,
          45,
          101,
          84,
          112,
          73,
          67,
          94,
          91,
          41,
          105,
          71,
          63,
          101,
          92,
          36,
          87,
          36,
          36,
          88,
          91,
          75,
          92,
          125,
          101,
          100,
          103,
          79,
          70,
          67,
          105,
          86,
          63,
          70,
          58,
          58,
          41,
          56,
          82,
          88,
          80,
          50,
          75,
          54,
          79,
          42,
          99,
          80,
          94,
          54,
          81,
          85,
          97,
          132,
          73,
          85,
          85,
          77,
          120,
          108,
          61,
          79,
          102,
          36,
          65,
          65,
          104,
          53,
          52,
          46,
          81,
          46,
          81,
          36,
          64,
          105,
          50,
          47,
          41,
          64,
          55,
          72,
          90,
          46,
          79,
          83,
          77,
          101,
          60,
          66,
          62,
          68,
          84,
          76,
          87,
          68,
          63,
          84,
          65,
          98,
          87,
          85,
          62,
          44,
          37,
          129,
          82,
          101,
          83,
          45,
          83,
          95,
          68,
          133,
          82,
          145,
          110,
          68,
          57
         ],
         "x0": " ",
         "xaxis": "x",
         "y": [
          "No",
          "No",
          "No",
          "No",
          "No",
          "No",
          "No",
          "No",
          "Other",
          "No",
          "No",
          "No",
          "No",
          "No",
          "No",
          "Other",
          "No",
          "No",
          "No",
          "No",
          "No",
          "No",
          "Other",
          "No",
          "Other",
          "Other",
          "Other",
          "No",
          "No",
          "No",
          "Other",
          "No",
          "No",
          "No",
          "No",
          "Major",
          "No",
          "Major",
          "Other",
          "Major",
          "No",
          "No",
          "No",
          "Major",
          "No",
          "Other",
          "Major",
          "No",
          "No",
          "Other",
          "Major",
          "No",
          "No",
          "No",
          "No",
          "Other",
          "Major",
          "No",
          "Other",
          "No",
          "No",
          "No",
          "Other",
          "No",
          "No",
          "No",
          "Other",
          "No",
          "No",
          "Major",
          "Other",
          "No",
          "No",
          "No",
          "No",
          "Other",
          "No",
          "Other",
          "Other",
          "Other",
          "No",
          "Other",
          "No",
          "No",
          "Major",
          "Other",
          "No",
          "No",
          "No",
          "Major",
          "No",
          "No",
          "No",
          "Other",
          "Major",
          "Major",
          "Major",
          "No",
          "No",
          "Other",
          "No",
          "Other",
          "No",
          "No",
          "No",
          "Major",
          "Major",
          "Other",
          "No",
          "No",
          "No",
          "Other",
          "No",
          "Other",
          "No",
          "Major",
          "No",
          "No",
          "No",
          "No",
          "Major",
          "Other",
          "No",
          "No",
          "No",
          "No",
          "No",
          "Other",
          "No",
          "No",
          "Other",
          "No",
          "Other",
          "No",
          "Other",
          "Major",
          "No",
          "No",
          "No",
          "Major",
          "No",
          "No",
          "Other",
          "No",
          "Other",
          "No",
          "No",
          "No",
          "Major",
          "No",
          "Other",
          "No",
          "No",
          "No",
          "No",
          "No",
          "Other",
          "No",
          "No",
          "Other",
          "No",
          "Other",
          "No",
          "No",
          "Other",
          "No",
          "Major",
          "Major",
          "No",
          "No",
          "No",
          "Other",
          "Other",
          "No",
          "Major",
          "No",
          "Other",
          "No",
          "No",
          "No",
          "Other",
          "Major",
          "Other",
          "Major",
          "No",
          "Major",
          "No",
          "Major",
          "Other",
          "No",
          "Other",
          "No",
          "No",
          "Major",
          "No",
          "Major",
          "No",
          "No",
          "Major",
          "No",
          "No"
         ],
         "y0": " ",
         "yaxis": "y"
        },
        {
         "alignmentgroup": "True",
         "hovertemplate": "International/Domestic=Dom<br>Total Acculturative Stress Score=%{x}<br>Depression Type=%{y}<extra></extra>",
         "legendgroup": "Dom",
         "marker": {
          "color": "#EF553B"
         },
         "name": "Dom",
         "notched": false,
         "offsetgroup": "Dom",
         "orientation": "h",
         "showlegend": true,
         "type": "box",
         "x": [
          81,
          37,
          72,
          43,
          36,
          56,
          71,
          36,
          96,
          37,
          90,
          75,
          77,
          43,
          52,
          66,
          65,
          96,
          44,
          49,
          36,
          60,
          74,
          60,
          42,
          90,
          90,
          81,
          39,
          112,
          89,
          65,
          49,
          75,
          66,
          82,
          72,
          40,
          58,
          36,
          57,
          43,
          72,
          42,
          84,
          67,
          37,
          69,
          95,
          58,
          109,
          60,
          64,
          40,
          36,
          76,
          67,
          44,
          74,
          94,
          36,
          76,
          74,
          50,
          43,
          44,
          61
         ],
         "x0": " ",
         "xaxis": "x",
         "y": [
          "Major",
          "No",
          "No",
          "No",
          "Other",
          "No",
          "No",
          "No",
          "Major",
          "Other",
          "No",
          "Major",
          "Major",
          "Major",
          "No",
          "No",
          "Other",
          "No",
          "No",
          "No",
          "No",
          "No",
          "No",
          "No",
          "No",
          "No",
          "Major",
          "Other",
          "No",
          "Major",
          "No",
          "No",
          "Major",
          "No",
          "Other",
          "No",
          "Other",
          "No",
          "No",
          "No",
          "Major",
          "No",
          "No",
          "No",
          "No",
          "No",
          "No",
          "No",
          "Other",
          "No",
          "Major",
          "No",
          "No",
          "No",
          "No",
          "Other",
          "No",
          "No",
          "Major",
          "Major",
          "No",
          "No",
          "No",
          "No",
          "No",
          "No",
          "No"
         ],
         "y0": " ",
         "yaxis": "y"
        }
       ],
       "layout": {
        "boxmode": "group",
        "legend": {
         "title": {
          "text": "International/Domestic"
         },
         "tracegroupgap": 0
        },
        "template": {
         "data": {
          "bar": [
           {
            "error_x": {
             "color": "#2a3f5f"
            },
            "error_y": {
             "color": "#2a3f5f"
            },
            "marker": {
             "line": {
              "color": "#E5ECF6",
              "width": 0.5
             },
             "pattern": {
              "fillmode": "overlay",
              "size": 10,
              "solidity": 0.2
             }
            },
            "type": "bar"
           }
          ],
          "barpolar": [
           {
            "marker": {
             "line": {
              "color": "#E5ECF6",
              "width": 0.5
             },
             "pattern": {
              "fillmode": "overlay",
              "size": 10,
              "solidity": 0.2
             }
            },
            "type": "barpolar"
           }
          ],
          "carpet": [
           {
            "aaxis": {
             "endlinecolor": "#2a3f5f",
             "gridcolor": "white",
             "linecolor": "white",
             "minorgridcolor": "white",
             "startlinecolor": "#2a3f5f"
            },
            "baxis": {
             "endlinecolor": "#2a3f5f",
             "gridcolor": "white",
             "linecolor": "white",
             "minorgridcolor": "white",
             "startlinecolor": "#2a3f5f"
            },
            "type": "carpet"
           }
          ],
          "choropleth": [
           {
            "colorbar": {
             "outlinewidth": 0,
             "ticks": ""
            },
            "type": "choropleth"
           }
          ],
          "contour": [
           {
            "colorbar": {
             "outlinewidth": 0,
             "ticks": ""
            },
            "colorscale": [
             [
              0,
              "#0d0887"
             ],
             [
              0.1111111111111111,
              "#46039f"
             ],
             [
              0.2222222222222222,
              "#7201a8"
             ],
             [
              0.3333333333333333,
              "#9c179e"
             ],
             [
              0.4444444444444444,
              "#bd3786"
             ],
             [
              0.5555555555555556,
              "#d8576b"
             ],
             [
              0.6666666666666666,
              "#ed7953"
             ],
             [
              0.7777777777777778,
              "#fb9f3a"
             ],
             [
              0.8888888888888888,
              "#fdca26"
             ],
             [
              1,
              "#f0f921"
             ]
            ],
            "type": "contour"
           }
          ],
          "contourcarpet": [
           {
            "colorbar": {
             "outlinewidth": 0,
             "ticks": ""
            },
            "type": "contourcarpet"
           }
          ],
          "heatmap": [
           {
            "colorbar": {
             "outlinewidth": 0,
             "ticks": ""
            },
            "colorscale": [
             [
              0,
              "#0d0887"
             ],
             [
              0.1111111111111111,
              "#46039f"
             ],
             [
              0.2222222222222222,
              "#7201a8"
             ],
             [
              0.3333333333333333,
              "#9c179e"
             ],
             [
              0.4444444444444444,
              "#bd3786"
             ],
             [
              0.5555555555555556,
              "#d8576b"
             ],
             [
              0.6666666666666666,
              "#ed7953"
             ],
             [
              0.7777777777777778,
              "#fb9f3a"
             ],
             [
              0.8888888888888888,
              "#fdca26"
             ],
             [
              1,
              "#f0f921"
             ]
            ],
            "type": "heatmap"
           }
          ],
          "heatmapgl": [
           {
            "colorbar": {
             "outlinewidth": 0,
             "ticks": ""
            },
            "colorscale": [
             [
              0,
              "#0d0887"
             ],
             [
              0.1111111111111111,
              "#46039f"
             ],
             [
              0.2222222222222222,
              "#7201a8"
             ],
             [
              0.3333333333333333,
              "#9c179e"
             ],
             [
              0.4444444444444444,
              "#bd3786"
             ],
             [
              0.5555555555555556,
              "#d8576b"
             ],
             [
              0.6666666666666666,
              "#ed7953"
             ],
             [
              0.7777777777777778,
              "#fb9f3a"
             ],
             [
              0.8888888888888888,
              "#fdca26"
             ],
             [
              1,
              "#f0f921"
             ]
            ],
            "type": "heatmapgl"
           }
          ],
          "histogram": [
           {
            "marker": {
             "pattern": {
              "fillmode": "overlay",
              "size": 10,
              "solidity": 0.2
             }
            },
            "type": "histogram"
           }
          ],
          "histogram2d": [
           {
            "colorbar": {
             "outlinewidth": 0,
             "ticks": ""
            },
            "colorscale": [
             [
              0,
              "#0d0887"
             ],
             [
              0.1111111111111111,
              "#46039f"
             ],
             [
              0.2222222222222222,
              "#7201a8"
             ],
             [
              0.3333333333333333,
              "#9c179e"
             ],
             [
              0.4444444444444444,
              "#bd3786"
             ],
             [
              0.5555555555555556,
              "#d8576b"
             ],
             [
              0.6666666666666666,
              "#ed7953"
             ],
             [
              0.7777777777777778,
              "#fb9f3a"
             ],
             [
              0.8888888888888888,
              "#fdca26"
             ],
             [
              1,
              "#f0f921"
             ]
            ],
            "type": "histogram2d"
           }
          ],
          "histogram2dcontour": [
           {
            "colorbar": {
             "outlinewidth": 0,
             "ticks": ""
            },
            "colorscale": [
             [
              0,
              "#0d0887"
             ],
             [
              0.1111111111111111,
              "#46039f"
             ],
             [
              0.2222222222222222,
              "#7201a8"
             ],
             [
              0.3333333333333333,
              "#9c179e"
             ],
             [
              0.4444444444444444,
              "#bd3786"
             ],
             [
              0.5555555555555556,
              "#d8576b"
             ],
             [
              0.6666666666666666,
              "#ed7953"
             ],
             [
              0.7777777777777778,
              "#fb9f3a"
             ],
             [
              0.8888888888888888,
              "#fdca26"
             ],
             [
              1,
              "#f0f921"
             ]
            ],
            "type": "histogram2dcontour"
           }
          ],
          "mesh3d": [
           {
            "colorbar": {
             "outlinewidth": 0,
             "ticks": ""
            },
            "type": "mesh3d"
           }
          ],
          "parcoords": [
           {
            "line": {
             "colorbar": {
              "outlinewidth": 0,
              "ticks": ""
             }
            },
            "type": "parcoords"
           }
          ],
          "pie": [
           {
            "automargin": true,
            "type": "pie"
           }
          ],
          "scatter": [
           {
            "fillpattern": {
             "fillmode": "overlay",
             "size": 10,
             "solidity": 0.2
            },
            "type": "scatter"
           }
          ],
          "scatter3d": [
           {
            "line": {
             "colorbar": {
              "outlinewidth": 0,
              "ticks": ""
             }
            },
            "marker": {
             "colorbar": {
              "outlinewidth": 0,
              "ticks": ""
             }
            },
            "type": "scatter3d"
           }
          ],
          "scattercarpet": [
           {
            "marker": {
             "colorbar": {
              "outlinewidth": 0,
              "ticks": ""
             }
            },
            "type": "scattercarpet"
           }
          ],
          "scattergeo": [
           {
            "marker": {
             "colorbar": {
              "outlinewidth": 0,
              "ticks": ""
             }
            },
            "type": "scattergeo"
           }
          ],
          "scattergl": [
           {
            "marker": {
             "colorbar": {
              "outlinewidth": 0,
              "ticks": ""
             }
            },
            "type": "scattergl"
           }
          ],
          "scattermapbox": [
           {
            "marker": {
             "colorbar": {
              "outlinewidth": 0,
              "ticks": ""
             }
            },
            "type": "scattermapbox"
           }
          ],
          "scatterpolar": [
           {
            "marker": {
             "colorbar": {
              "outlinewidth": 0,
              "ticks": ""
             }
            },
            "type": "scatterpolar"
           }
          ],
          "scatterpolargl": [
           {
            "marker": {
             "colorbar": {
              "outlinewidth": 0,
              "ticks": ""
             }
            },
            "type": "scatterpolargl"
           }
          ],
          "scatterternary": [
           {
            "marker": {
             "colorbar": {
              "outlinewidth": 0,
              "ticks": ""
             }
            },
            "type": "scatterternary"
           }
          ],
          "surface": [
           {
            "colorbar": {
             "outlinewidth": 0,
             "ticks": ""
            },
            "colorscale": [
             [
              0,
              "#0d0887"
             ],
             [
              0.1111111111111111,
              "#46039f"
             ],
             [
              0.2222222222222222,
              "#7201a8"
             ],
             [
              0.3333333333333333,
              "#9c179e"
             ],
             [
              0.4444444444444444,
              "#bd3786"
             ],
             [
              0.5555555555555556,
              "#d8576b"
             ],
             [
              0.6666666666666666,
              "#ed7953"
             ],
             [
              0.7777777777777778,
              "#fb9f3a"
             ],
             [
              0.8888888888888888,
              "#fdca26"
             ],
             [
              1,
              "#f0f921"
             ]
            ],
            "type": "surface"
           }
          ],
          "table": [
           {
            "cells": {
             "fill": {
              "color": "#EBF0F8"
             },
             "line": {
              "color": "white"
             }
            },
            "header": {
             "fill": {
              "color": "#C8D4E3"
             },
             "line": {
              "color": "white"
             }
            },
            "type": "table"
           }
          ]
         },
         "layout": {
          "annotationdefaults": {
           "arrowcolor": "#2a3f5f",
           "arrowhead": 0,
           "arrowwidth": 1
          },
          "autotypenumbers": "strict",
          "coloraxis": {
           "colorbar": {
            "outlinewidth": 0,
            "ticks": ""
           }
          },
          "colorscale": {
           "diverging": [
            [
             0,
             "#8e0152"
            ],
            [
             0.1,
             "#c51b7d"
            ],
            [
             0.2,
             "#de77ae"
            ],
            [
             0.3,
             "#f1b6da"
            ],
            [
             0.4,
             "#fde0ef"
            ],
            [
             0.5,
             "#f7f7f7"
            ],
            [
             0.6,
             "#e6f5d0"
            ],
            [
             0.7,
             "#b8e186"
            ],
            [
             0.8,
             "#7fbc41"
            ],
            [
             0.9,
             "#4d9221"
            ],
            [
             1,
             "#276419"
            ]
           ],
           "sequential": [
            [
             0,
             "#0d0887"
            ],
            [
             0.1111111111111111,
             "#46039f"
            ],
            [
             0.2222222222222222,
             "#7201a8"
            ],
            [
             0.3333333333333333,
             "#9c179e"
            ],
            [
             0.4444444444444444,
             "#bd3786"
            ],
            [
             0.5555555555555556,
             "#d8576b"
            ],
            [
             0.6666666666666666,
             "#ed7953"
            ],
            [
             0.7777777777777778,
             "#fb9f3a"
            ],
            [
             0.8888888888888888,
             "#fdca26"
            ],
            [
             1,
             "#f0f921"
            ]
           ],
           "sequentialminus": [
            [
             0,
             "#0d0887"
            ],
            [
             0.1111111111111111,
             "#46039f"
            ],
            [
             0.2222222222222222,
             "#7201a8"
            ],
            [
             0.3333333333333333,
             "#9c179e"
            ],
            [
             0.4444444444444444,
             "#bd3786"
            ],
            [
             0.5555555555555556,
             "#d8576b"
            ],
            [
             0.6666666666666666,
             "#ed7953"
            ],
            [
             0.7777777777777778,
             "#fb9f3a"
            ],
            [
             0.8888888888888888,
             "#fdca26"
            ],
            [
             1,
             "#f0f921"
            ]
           ]
          },
          "colorway": [
           "#636efa",
           "#EF553B",
           "#00cc96",
           "#ab63fa",
           "#FFA15A",
           "#19d3f3",
           "#FF6692",
           "#B6E880",
           "#FF97FF",
           "#FECB52"
          ],
          "font": {
           "color": "#2a3f5f"
          },
          "geo": {
           "bgcolor": "white",
           "lakecolor": "white",
           "landcolor": "#E5ECF6",
           "showlakes": true,
           "showland": true,
           "subunitcolor": "white"
          },
          "hoverlabel": {
           "align": "left"
          },
          "hovermode": "closest",
          "mapbox": {
           "style": "light"
          },
          "paper_bgcolor": "white",
          "plot_bgcolor": "#E5ECF6",
          "polar": {
           "angularaxis": {
            "gridcolor": "white",
            "linecolor": "white",
            "ticks": ""
           },
           "bgcolor": "#E5ECF6",
           "radialaxis": {
            "gridcolor": "white",
            "linecolor": "white",
            "ticks": ""
           }
          },
          "scene": {
           "xaxis": {
            "backgroundcolor": "#E5ECF6",
            "gridcolor": "white",
            "gridwidth": 2,
            "linecolor": "white",
            "showbackground": true,
            "ticks": "",
            "zerolinecolor": "white"
           },
           "yaxis": {
            "backgroundcolor": "#E5ECF6",
            "gridcolor": "white",
            "gridwidth": 2,
            "linecolor": "white",
            "showbackground": true,
            "ticks": "",
            "zerolinecolor": "white"
           },
           "zaxis": {
            "backgroundcolor": "#E5ECF6",
            "gridcolor": "white",
            "gridwidth": 2,
            "linecolor": "white",
            "showbackground": true,
            "ticks": "",
            "zerolinecolor": "white"
           }
          },
          "shapedefaults": {
           "line": {
            "color": "#2a3f5f"
           }
          },
          "ternary": {
           "aaxis": {
            "gridcolor": "white",
            "linecolor": "white",
            "ticks": ""
           },
           "baxis": {
            "gridcolor": "white",
            "linecolor": "white",
            "ticks": ""
           },
           "bgcolor": "#E5ECF6",
           "caxis": {
            "gridcolor": "white",
            "linecolor": "white",
            "ticks": ""
           }
          },
          "title": {
           "x": 0.05
          },
          "xaxis": {
           "automargin": true,
           "gridcolor": "white",
           "linecolor": "white",
           "ticks": "",
           "title": {
            "standoff": 15
           },
           "zerolinecolor": "white",
           "zerolinewidth": 2
          },
          "yaxis": {
           "automargin": true,
           "gridcolor": "white",
           "linecolor": "white",
           "ticks": "",
           "title": {
            "standoff": 15
           },
           "zerolinecolor": "white",
           "zerolinewidth": 2
          }
         }
        },
        "title": {
         "text": "Box plot of total scores of acculturative stress by depression type"
        },
        "xaxis": {
         "anchor": "y",
         "domain": [
          0,
          1
         ],
         "title": {
          "text": "Total Acculturative Stress Score"
         }
        },
        "yaxis": {
         "anchor": "x",
         "domain": [
          0,
          1
         ],
         "title": {
          "text": "Depression Type"
         }
        }
       }
      }
     },
     "metadata": {},
     "output_type": "display_data"
    }
   ],
   "source": [
    "# Build a box plot of the ToAS score by DepType, colored by inter_dom\n",
    "fig = px.box(\n",
    "    data_frame=students, \n",
    "    x='ToAS', \n",
    "    y='DepType', \n",
    "    color='inter_dom', \n",
    "    title='Box plot of total scores of acculturative stress by depression type',\n",
    "    labels={\n",
    "        'ToAS': 'Total Acculturative Stress Score', \n",
    "        'DepType': 'Depression Type', \n",
    "        'inter_dom': 'International/Domestic'\n",
    "    }\n",
    ")\n",
    "fig.show()"
   ]
  },
  {
   "cell_type": "markdown",
   "metadata": {},
   "source": [
    "The data indicated that students who reported experiencing major depressive disorder tended to have higher scores for acculturative stress compared to those without depressive disorders or with other types of depressive disorders. It's worth noting that, across all cases, the acculturative stress scores were relatively more elevated for international students in comparison to domestic students."
   ]
  },
  {
   "cell_type": "code",
   "execution_count": 15,
   "metadata": {},
   "outputs": [
    {
     "data": {
      "application/vnd.plotly.v1+json": {
       "config": {
        "plotlyServerURL": "https://plot.ly"
       },
       "data": [
        {
         "type": "heatmap",
         "x": [
          "Age",
          "Stay",
          "Japanese",
          "English",
          "ToDep",
          "ToSC",
          "APD",
          "AHome",
          "APH",
          "Afear",
          "ACS",
          "AGuilt",
          "AMiscell",
          "ToAS",
          "Partner",
          "Friends",
          "Parents",
          "Relative",
          "Profess",
          " Phone",
          "Doctor",
          "Reli",
          "Alone",
          "Others",
          "Internet"
         ],
         "y": [
          "Age",
          "Stay",
          "Japanese",
          "English",
          "ToDep",
          "ToSC",
          "APD",
          "AHome",
          "APH",
          "Afear",
          "ACS",
          "AGuilt",
          "AMiscell",
          "ToAS",
          "Partner",
          "Friends",
          "Parents",
          "Relative",
          "Profess",
          " Phone",
          "Doctor",
          "Reli",
          "Alone",
          "Others",
          "Internet"
         ],
         "z": [
          [
           1,
           0.30223442861041994,
           -0.13346135511164042,
           0.050872599879405705,
           -0.11526276048033443,
           0.11046223791627822,
           0.0574896536966225,
           -0.022056288641419165,
           -0.013014375662681736,
           0.017738742224981268,
           0.11934070625017869,
           -0.038557980354092754,
           0.046097436179253014,
           0.03731837300153905,
           0.11999313142819595,
           -0.054480818953576926,
           -0.021118652289905386,
           -0.025270344560412147,
           0.04681613590826104,
           -0.026764903746492964,
           0.04726100914515056,
           0.13597872353012724,
           -0.13741467714249087,
           -0.0019613050994948186,
           0.0017454272234456636
          ],
          [
           0.30223442861041994,
           1,
           0.3071546800158845,
           -0.015932731090200283,
           0.05158095907975082,
           -0.0375866054343532,
           0.059173687257718585,
           -0.12338554627055097,
           0.021855958817581043,
           0.0160582104984054,
           0.018953913213940764,
           -0.024161298515085857,
           -0.0013831054196054035,
           0.00022140307033668118,
           -0.0099015681776633,
           0.019637492434926723,
           -0.021692246664182593,
           -0.0697915836171958,
           -0.03998721431313516,
           -0.06733550437072844,
           -0.011302033281015868,
           -0.02351448058360812,
           -0.11761601041882046,
           0.0006159518986365689,
           -0.005338981760702024
          ],
          [
           -0.13346135511164042,
           0.3071546800158845,
           1,
           -0.3089778925995498,
           0.03654763129129567,
           0.04275464995521668,
           -0.1735866204056002,
           -0.29011336953292716,
           -0.15148312571598643,
           -0.13610666830015347,
           -0.22895356270079423,
           -0.0921697608149918,
           -0.19989825239167086,
           -0.24489148848944298,
           0.0008429980262486987,
           0.11017139039649985,
           0.15400451748932695,
           0.00024240509176867418,
           0.06327138180644894,
           0.13782656855238973,
           0.09287260401366577,
           -0.03846289857632018,
           -0.1912651401950974,
           -0.06990933942952544,
           -0.08371340652501433
          ],
          [
           0.050872599879405705,
           -0.015932731090200283,
           -0.3089778925995498,
           1,
           -0.03645150913166027,
           -0.07436771826212324,
           0.15563589036777944,
           0.07546843463198911,
           0.11252975831807727,
           0.08502258432550147,
           0.15367014101042195,
           -0.023040166971250338,
           0.1062291855980115,
           0.1387620044416444,
           0.17548010120944432,
           0.035083791197732965,
           -0.028580379685928456,
           0.026760760687337813,
           0.08392163985333859,
           -0.05002403324399636,
           0.062342910389343,
           0.04621808270329078,
           0.10553795153065841,
           0.10833414805009514,
           0.04641410210254837
          ],
          [
           -0.11526276048033443,
           0.05158095907975082,
           0.03654763129129567,
           -0.03645150913166027,
           1,
           -0.551795283709692,
           0.34025572677544047,
           0.16858665501797263,
           0.3092536691492189,
           0.3486300390590868,
           0.27432671345226944,
           0.30594760685915373,
           0.33334197697735024,
           0.39409453380723974,
           -0.050095627253516496,
           -0.11529651401429147,
           -0.17058048436841194,
           -0.14619371027807468,
           0.06348314835260256,
           0.07887758329259738,
           -0.031113961785138797,
           -0.036489584641955106,
           0.3096974109777824,
           0.24107178003570032,
           0.16110960354943368
          ],
          [
           0.11046223791627822,
           -0.0375866054343532,
           0.04275464995521668,
           -0.07436771826212324,
           -0.551795283709692,
           1,
           -0.5294965516746343,
           -0.23795255500800946,
           -0.42424603201435623,
           -0.4271055400401072,
           -0.3527790085175274,
           -0.3686556274576898,
           -0.4908851515424259,
           -0.5558600932591827,
           0.047433059457919695,
           0.126788846602698,
           0.17685137413185165,
           0.16517883719995807,
           -0.1056326681445647,
           -0.020279138358540966,
           -0.030819426573632923,
           -0.00016570591945575588,
           -0.4289067891363692,
           -0.2331472700010815,
           -0.2122581694725351
          ],
          [
           0.0574896536966225,
           0.059173687257718585,
           -0.1735866204056002,
           0.15563589036777944,
           0.34025572677544047,
           -0.5294965516746343,
           1,
           0.3713296997467809,
           0.6475122446697448,
           0.5724206362932405,
           0.4478054541175727,
           0.31069864318420953,
           0.578559446112398,
           0.8037853755555872,
           0.04137697699365782,
           -0.045776104593547876,
           -0.12656924717099816,
           -0.06310604763408748,
           0.1415398496105294,
           0.11384010099413666,
           0.1232596235433279,
           0.1854947578069954,
           0.26603586359896886,
           0.235916466472166,
           0.25151327225419057
          ],
          [
           -0.022056288641419165,
           -0.12338554627055097,
           -0.29011336953292716,
           0.07546843463198911,
           0.16858665501797263,
           -0.23795255500800946,
           0.3713296997467809,
           1,
           0.39722720251597404,
           0.43571396846864147,
           0.46086693513791943,
           0.41286020337905,
           0.5064804245967209,
           0.6651342770500729,
           0.019517239896626973,
           0.08668507631104107,
           0.1676889580659996,
           0.13872954598517842,
           0.1278843499024998,
           0.0910443553374008,
           -0.008427816454745612,
           0.16289896197700784,
           0.11022933076103679,
           0.19290368534177982,
           0.1979247828004269
          ],
          [
           -0.013014375662681736,
           0.021855958817581043,
           -0.15148312571598643,
           0.11252975831807727,
           0.3092536691492189,
           -0.42424603201435623,
           0.6475122446697448,
           0.39722720251597404,
           1,
           0.6408838882612105,
           0.46610935873065235,
           0.34183299541294115,
           0.5460327278086302,
           0.7810582934656541,
           -0.06589926808195731,
           -0.11596828726072766,
           -0.10892146116779795,
           -0.059540023948938474,
           0.08148904322852193,
           0.0760898887095804,
           0.06672688476679609,
           0.14349338747672946,
           0.25159421752707395,
           0.22829320009725237,
           0.12689430524122428
          ],
          [
           0.017738742224981268,
           0.0160582104984054,
           -0.13610666830015347,
           0.08502258432550147,
           0.3486300390590868,
           -0.4271055400401072,
           0.5724206362932405,
           0.43571396846864147,
           0.6408838882612105,
           1,
           0.41265000745002817,
           0.4304985066740514,
           0.5704248106145678,
           0.7595361895164652,
           -0.09005694978525522,
           -0.09041954086174268,
           -0.07593760944772228,
           -0.023951928112485834,
           0.12016288728208566,
           0.09061756436574207,
           0.043979864266858876,
           0.1691535861026482,
           0.17966406713441127,
           0.2561269131564129,
           0.19086899938040283
          ],
          [
           0.11934070625017869,
           0.018953913213940764,
           -0.22895356270079423,
           0.15367014101042195,
           0.27432671345226944,
           -0.3527790085175274,
           0.4478054541175727,
           0.46086693513791943,
           0.46610935873065235,
           0.41265000745002817,
           1,
           0.4025079126524669,
           0.6465048856068519,
           0.7068950142983819,
           0.0641728347982046,
           0.04012644375583,
           0.015049455806384972,
           0.0340199458849327,
           0.13139679325327222,
           0.11118875038400824,
           0.05507722763454761,
           0.11815245833982374,
           0.2482187717789588,
           0.1804803058517604,
           0.1857046366145684
          ],
          [
           -0.038557980354092754,
           -0.024161298515085857,
           -0.0921697608149918,
           -0.023040166971250338,
           0.30594760685915373,
           -0.3686556274576898,
           0.31069864318420953,
           0.41286020337905,
           0.34183299541294115,
           0.4304985066740514,
           0.4025079126524669,
           1,
           0.49783991339200884,
           0.5736037024714602,
           -0.029316833301396797,
           -0.05303173787249692,
           -0.0732196617605876,
           0.009640849414106015,
           0.08897633199793545,
           0.06752456118180285,
           0.002236538819068991,
           0.20115417422819887,
           0.27001069782834475,
           0.24143614806649277,
           0.140489471208461
          ],
          [
           0.046097436179253014,
           -0.0013831054196054035,
           -0.19989825239167086,
           0.1062291855980115,
           0.33334197697735024,
           -0.4908851515424259,
           0.578559446112398,
           0.5064804245967209,
           0.5460327278086302,
           0.5704248106145678,
           0.6465048856068519,
           0.49783991339200884,
           1,
           0.8701018256644012,
           0.13070249080270335,
           0.05569954122802553,
           0.028671718115611967,
           0.040339294999262316,
           0.22064352874694412,
           0.12141315582611946,
           0.11571968841234022,
           0.16207937255175792,
           0.30718113747337483,
           0.2903775641198487,
           0.30478775313156675
          ],
          [
           0.03731837300153905,
           0.00022140307033668118,
           -0.24489148848944298,
           0.1387620044416444,
           0.39409453380723974,
           -0.5558600932591827,
           0.8037853755555872,
           0.6651342770500729,
           0.7810582934656541,
           0.7595361895164652,
           0.7068950142983819,
           0.5736037024714602,
           0.8701018256644012,
           1,
           0.03777942073259224,
           -0.012689086607837198,
           -0.03049180053239368,
           0.010952732065064896,
           0.18756882481302994,
           0.13186449484675458,
           0.094859655327835,
           0.21276764865574194,
           0.31504183637614114,
           0.31198265400944775,
           0.2866011464775678
          ],
          [
           0.11999313142819595,
           -0.0099015681776633,
           0.0008429980262486987,
           0.17548010120944432,
           -0.050095627253516496,
           0.047433059457919695,
           0.04137697699365782,
           0.019517239896626973,
           -0.06589926808195731,
           -0.09005694978525522,
           0.0641728347982046,
           -0.029316833301396797,
           0.13070249080270335,
           0.03777942073259224,
           1,
           0.40073105330563685,
           0.38825766980804627,
           0.22509874089904341,
           0.3176033239610909,
           0.17566863954020526,
           0.2955076302693881,
           0.09543318624408503,
           -0.03043700121811064,
           0.015381927912487794,
           0.1373425986164617
          ],
          [
           -0.054480818953576926,
           0.019637492434926723,
           0.11017139039649985,
           0.035083791197732965,
           -0.11529651401429147,
           0.126788846602698,
           -0.045776104593547876,
           0.08668507631104107,
           -0.11596828726072766,
           -0.09041954086174268,
           0.04012644375583,
           -0.05303173787249692,
           0.05569954122802553,
           -0.012689086607837198,
           0.40073105330563685,
           1,
           0.4815654626419163,
           0.3568150761602755,
           0.2760451816395799,
           0.20129488948284283,
           0.2862014732384553,
           0.15878491080287618,
           -0.08385395137327106,
           0.045772136053049785,
           0.25598799007182726
          ],
          [
           -0.021118652289905386,
           -0.021692246664182593,
           0.15400451748932695,
           -0.028580379685928456,
           -0.17058048436841194,
           0.17685137413185165,
           -0.12656924717099816,
           0.1676889580659996,
           -0.10892146116779795,
           -0.07593760944772228,
           0.015049455806384972,
           -0.0732196617605876,
           0.028671718115611967,
           -0.03049180053239368,
           0.38825766980804627,
           0.4815654626419163,
           1,
           0.613094197915781,
           0.2768800933281308,
           0.22950024395221227,
           0.3096839152198451,
           0.1840140864047523,
           -0.19492989746077202,
           0.03101062920035796,
           0.15508526941166353
          ],
          [
           -0.025270344560412147,
           -0.0697915836171958,
           0.00024240509176867418,
           0.026760760687337813,
           -0.14619371027807468,
           0.16517883719995807,
           -0.06310604763408748,
           0.13872954598517842,
           -0.059540023948938474,
           -0.023951928112485834,
           0.0340199458849327,
           0.009640849414106015,
           0.040339294999262316,
           0.010952732065064896,
           0.22509874089904341,
           0.3568150761602755,
           0.613094197915781,
           1,
           0.32803127204567756,
           0.329538017759358,
           0.3172011023347105,
           0.32111273987104116,
           -0.12422280350202371,
           0.1158679272712482,
           0.14587161002484716
          ],
          [
           0.04681613590826104,
           -0.03998721431313516,
           0.06327138180644894,
           0.08392163985333859,
           0.06348314835260256,
           -0.1056326681445647,
           0.1415398496105294,
           0.1278843499024998,
           0.08148904322852193,
           0.12016288728208566,
           0.13139679325327222,
           0.08897633199793545,
           0.22064352874694412,
           0.18756882481302994,
           0.3176033239610909,
           0.2760451816395799,
           0.2768800933281308,
           0.32803127204567756,
           1,
           0.6384846948421239,
           0.69664876575141,
           0.3244339550632918,
           -0.03411796970622428,
           0.22177798230730067,
           0.2882041502522056
          ],
          [
           -0.026764903746492964,
           -0.06733550437072844,
           0.13782656855238973,
           -0.05002403324399636,
           0.07887758329259738,
           -0.020279138358540966,
           0.11384010099413666,
           0.0910443553374008,
           0.0760898887095804,
           0.09061756436574207,
           0.11118875038400824,
           0.06752456118180285,
           0.12141315582611946,
           0.13186449484675458,
           0.17566863954020526,
           0.20129488948284283,
           0.22950024395221227,
           0.329538017759358,
           0.6384846948421239,
           1,
           0.635734429776419,
           0.48793447542993423,
           0.06461612184864152,
           0.2604396850394347,
           0.4008234037248901
          ],
          [
           0.04726100914515056,
           -0.011302033281015868,
           0.09287260401366577,
           0.062342910389343,
           -0.031113961785138797,
           -0.030819426573632923,
           0.1232596235433279,
           -0.008427816454745612,
           0.06672688476679609,
           0.043979864266858876,
           0.05507722763454761,
           0.002236538819068991,
           0.11571968841234022,
           0.094859655327835,
           0.2955076302693881,
           0.2862014732384553,
           0.3096839152198451,
           0.3172011023347105,
           0.69664876575141,
           0.635734429776419,
           1,
           0.3381814513168685,
           -0.023935175888307916,
           0.26920889701714235,
           0.29638464598042363
          ],
          [
           0.13597872353012724,
           -0.02351448058360812,
           -0.03846289857632018,
           0.04621808270329078,
           -0.036489584641955106,
           -0.00016570591945575588,
           0.1854947578069954,
           0.16289896197700784,
           0.14349338747672946,
           0.1691535861026482,
           0.11815245833982374,
           0.20115417422819887,
           0.16207937255175792,
           0.21276764865574194,
           0.09543318624408503,
           0.15878491080287618,
           0.1840140864047523,
           0.32111273987104116,
           0.3244339550632918,
           0.48793447542993423,
           0.3381814513168685,
           1,
           0.11367175640417765,
           0.29572754067625345,
           0.27324047231921045
          ],
          [
           -0.13741467714249087,
           -0.11761601041882046,
           -0.1912651401950974,
           0.10553795153065841,
           0.3096974109777824,
           -0.4289067891363692,
           0.26603586359896886,
           0.11022933076103679,
           0.25159421752707395,
           0.17966406713441127,
           0.2482187717789588,
           0.27001069782834475,
           0.30718113747337483,
           0.31504183637614114,
           -0.03043700121811064,
           -0.08385395137327106,
           -0.19492989746077202,
           -0.12422280350202371,
           -0.03411796970622428,
           0.06461612184864152,
           -0.023935175888307916,
           0.11367175640417765,
           1,
           0.3545361535609185,
           0.23410691523020893
          ],
          [
           -0.0019613050994948186,
           0.0006159518986365689,
           -0.06990933942952544,
           0.10833414805009514,
           0.24107178003570032,
           -0.2331472700010815,
           0.235916466472166,
           0.19290368534177982,
           0.22829320009725237,
           0.2561269131564129,
           0.1804803058517604,
           0.24143614806649277,
           0.2903775641198487,
           0.31198265400944775,
           0.015381927912487794,
           0.045772136053049785,
           0.03101062920035796,
           0.1158679272712482,
           0.22177798230730067,
           0.2604396850394347,
           0.26920889701714235,
           0.29572754067625345,
           0.3545361535609185,
           1,
           0.28995203633676475
          ],
          [
           0.0017454272234456636,
           -0.005338981760702024,
           -0.08371340652501433,
           0.04641410210254837,
           0.16110960354943368,
           -0.2122581694725351,
           0.25151327225419057,
           0.1979247828004269,
           0.12689430524122428,
           0.19086899938040283,
           0.1857046366145684,
           0.140489471208461,
           0.30478775313156675,
           0.2866011464775678,
           0.1373425986164617,
           0.25598799007182726,
           0.15508526941166353,
           0.14587161002484716,
           0.2882041502522056,
           0.4008234037248901,
           0.29638464598042363,
           0.27324047231921045,
           0.23410691523020893,
           0.28995203633676475,
           1
          ]
         ],
         "zmax": 1,
         "zmin": -1
        }
       ],
       "layout": {
        "height": 900,
        "template": {
         "data": {
          "bar": [
           {
            "error_x": {
             "color": "#2a3f5f"
            },
            "error_y": {
             "color": "#2a3f5f"
            },
            "marker": {
             "line": {
              "color": "#E5ECF6",
              "width": 0.5
             },
             "pattern": {
              "fillmode": "overlay",
              "size": 10,
              "solidity": 0.2
             }
            },
            "type": "bar"
           }
          ],
          "barpolar": [
           {
            "marker": {
             "line": {
              "color": "#E5ECF6",
              "width": 0.5
             },
             "pattern": {
              "fillmode": "overlay",
              "size": 10,
              "solidity": 0.2
             }
            },
            "type": "barpolar"
           }
          ],
          "carpet": [
           {
            "aaxis": {
             "endlinecolor": "#2a3f5f",
             "gridcolor": "white",
             "linecolor": "white",
             "minorgridcolor": "white",
             "startlinecolor": "#2a3f5f"
            },
            "baxis": {
             "endlinecolor": "#2a3f5f",
             "gridcolor": "white",
             "linecolor": "white",
             "minorgridcolor": "white",
             "startlinecolor": "#2a3f5f"
            },
            "type": "carpet"
           }
          ],
          "choropleth": [
           {
            "colorbar": {
             "outlinewidth": 0,
             "ticks": ""
            },
            "type": "choropleth"
           }
          ],
          "contour": [
           {
            "colorbar": {
             "outlinewidth": 0,
             "ticks": ""
            },
            "colorscale": [
             [
              0,
              "#0d0887"
             ],
             [
              0.1111111111111111,
              "#46039f"
             ],
             [
              0.2222222222222222,
              "#7201a8"
             ],
             [
              0.3333333333333333,
              "#9c179e"
             ],
             [
              0.4444444444444444,
              "#bd3786"
             ],
             [
              0.5555555555555556,
              "#d8576b"
             ],
             [
              0.6666666666666666,
              "#ed7953"
             ],
             [
              0.7777777777777778,
              "#fb9f3a"
             ],
             [
              0.8888888888888888,
              "#fdca26"
             ],
             [
              1,
              "#f0f921"
             ]
            ],
            "type": "contour"
           }
          ],
          "contourcarpet": [
           {
            "colorbar": {
             "outlinewidth": 0,
             "ticks": ""
            },
            "type": "contourcarpet"
           }
          ],
          "heatmap": [
           {
            "colorbar": {
             "outlinewidth": 0,
             "ticks": ""
            },
            "colorscale": [
             [
              0,
              "#0d0887"
             ],
             [
              0.1111111111111111,
              "#46039f"
             ],
             [
              0.2222222222222222,
              "#7201a8"
             ],
             [
              0.3333333333333333,
              "#9c179e"
             ],
             [
              0.4444444444444444,
              "#bd3786"
             ],
             [
              0.5555555555555556,
              "#d8576b"
             ],
             [
              0.6666666666666666,
              "#ed7953"
             ],
             [
              0.7777777777777778,
              "#fb9f3a"
             ],
             [
              0.8888888888888888,
              "#fdca26"
             ],
             [
              1,
              "#f0f921"
             ]
            ],
            "type": "heatmap"
           }
          ],
          "heatmapgl": [
           {
            "colorbar": {
             "outlinewidth": 0,
             "ticks": ""
            },
            "colorscale": [
             [
              0,
              "#0d0887"
             ],
             [
              0.1111111111111111,
              "#46039f"
             ],
             [
              0.2222222222222222,
              "#7201a8"
             ],
             [
              0.3333333333333333,
              "#9c179e"
             ],
             [
              0.4444444444444444,
              "#bd3786"
             ],
             [
              0.5555555555555556,
              "#d8576b"
             ],
             [
              0.6666666666666666,
              "#ed7953"
             ],
             [
              0.7777777777777778,
              "#fb9f3a"
             ],
             [
              0.8888888888888888,
              "#fdca26"
             ],
             [
              1,
              "#f0f921"
             ]
            ],
            "type": "heatmapgl"
           }
          ],
          "histogram": [
           {
            "marker": {
             "pattern": {
              "fillmode": "overlay",
              "size": 10,
              "solidity": 0.2
             }
            },
            "type": "histogram"
           }
          ],
          "histogram2d": [
           {
            "colorbar": {
             "outlinewidth": 0,
             "ticks": ""
            },
            "colorscale": [
             [
              0,
              "#0d0887"
             ],
             [
              0.1111111111111111,
              "#46039f"
             ],
             [
              0.2222222222222222,
              "#7201a8"
             ],
             [
              0.3333333333333333,
              "#9c179e"
             ],
             [
              0.4444444444444444,
              "#bd3786"
             ],
             [
              0.5555555555555556,
              "#d8576b"
             ],
             [
              0.6666666666666666,
              "#ed7953"
             ],
             [
              0.7777777777777778,
              "#fb9f3a"
             ],
             [
              0.8888888888888888,
              "#fdca26"
             ],
             [
              1,
              "#f0f921"
             ]
            ],
            "type": "histogram2d"
           }
          ],
          "histogram2dcontour": [
           {
            "colorbar": {
             "outlinewidth": 0,
             "ticks": ""
            },
            "colorscale": [
             [
              0,
              "#0d0887"
             ],
             [
              0.1111111111111111,
              "#46039f"
             ],
             [
              0.2222222222222222,
              "#7201a8"
             ],
             [
              0.3333333333333333,
              "#9c179e"
             ],
             [
              0.4444444444444444,
              "#bd3786"
             ],
             [
              0.5555555555555556,
              "#d8576b"
             ],
             [
              0.6666666666666666,
              "#ed7953"
             ],
             [
              0.7777777777777778,
              "#fb9f3a"
             ],
             [
              0.8888888888888888,
              "#fdca26"
             ],
             [
              1,
              "#f0f921"
             ]
            ],
            "type": "histogram2dcontour"
           }
          ],
          "mesh3d": [
           {
            "colorbar": {
             "outlinewidth": 0,
             "ticks": ""
            },
            "type": "mesh3d"
           }
          ],
          "parcoords": [
           {
            "line": {
             "colorbar": {
              "outlinewidth": 0,
              "ticks": ""
             }
            },
            "type": "parcoords"
           }
          ],
          "pie": [
           {
            "automargin": true,
            "type": "pie"
           }
          ],
          "scatter": [
           {
            "fillpattern": {
             "fillmode": "overlay",
             "size": 10,
             "solidity": 0.2
            },
            "type": "scatter"
           }
          ],
          "scatter3d": [
           {
            "line": {
             "colorbar": {
              "outlinewidth": 0,
              "ticks": ""
             }
            },
            "marker": {
             "colorbar": {
              "outlinewidth": 0,
              "ticks": ""
             }
            },
            "type": "scatter3d"
           }
          ],
          "scattercarpet": [
           {
            "marker": {
             "colorbar": {
              "outlinewidth": 0,
              "ticks": ""
             }
            },
            "type": "scattercarpet"
           }
          ],
          "scattergeo": [
           {
            "marker": {
             "colorbar": {
              "outlinewidth": 0,
              "ticks": ""
             }
            },
            "type": "scattergeo"
           }
          ],
          "scattergl": [
           {
            "marker": {
             "colorbar": {
              "outlinewidth": 0,
              "ticks": ""
             }
            },
            "type": "scattergl"
           }
          ],
          "scattermapbox": [
           {
            "marker": {
             "colorbar": {
              "outlinewidth": 0,
              "ticks": ""
             }
            },
            "type": "scattermapbox"
           }
          ],
          "scatterpolar": [
           {
            "marker": {
             "colorbar": {
              "outlinewidth": 0,
              "ticks": ""
             }
            },
            "type": "scatterpolar"
           }
          ],
          "scatterpolargl": [
           {
            "marker": {
             "colorbar": {
              "outlinewidth": 0,
              "ticks": ""
             }
            },
            "type": "scatterpolargl"
           }
          ],
          "scatterternary": [
           {
            "marker": {
             "colorbar": {
              "outlinewidth": 0,
              "ticks": ""
             }
            },
            "type": "scatterternary"
           }
          ],
          "surface": [
           {
            "colorbar": {
             "outlinewidth": 0,
             "ticks": ""
            },
            "colorscale": [
             [
              0,
              "#0d0887"
             ],
             [
              0.1111111111111111,
              "#46039f"
             ],
             [
              0.2222222222222222,
              "#7201a8"
             ],
             [
              0.3333333333333333,
              "#9c179e"
             ],
             [
              0.4444444444444444,
              "#bd3786"
             ],
             [
              0.5555555555555556,
              "#d8576b"
             ],
             [
              0.6666666666666666,
              "#ed7953"
             ],
             [
              0.7777777777777778,
              "#fb9f3a"
             ],
             [
              0.8888888888888888,
              "#fdca26"
             ],
             [
              1,
              "#f0f921"
             ]
            ],
            "type": "surface"
           }
          ],
          "table": [
           {
            "cells": {
             "fill": {
              "color": "#EBF0F8"
             },
             "line": {
              "color": "white"
             }
            },
            "header": {
             "fill": {
              "color": "#C8D4E3"
             },
             "line": {
              "color": "white"
             }
            },
            "type": "table"
           }
          ]
         },
         "layout": {
          "annotationdefaults": {
           "arrowcolor": "#2a3f5f",
           "arrowhead": 0,
           "arrowwidth": 1
          },
          "autotypenumbers": "strict",
          "coloraxis": {
           "colorbar": {
            "outlinewidth": 0,
            "ticks": ""
           }
          },
          "colorscale": {
           "diverging": [
            [
             0,
             "#8e0152"
            ],
            [
             0.1,
             "#c51b7d"
            ],
            [
             0.2,
             "#de77ae"
            ],
            [
             0.3,
             "#f1b6da"
            ],
            [
             0.4,
             "#fde0ef"
            ],
            [
             0.5,
             "#f7f7f7"
            ],
            [
             0.6,
             "#e6f5d0"
            ],
            [
             0.7,
             "#b8e186"
            ],
            [
             0.8,
             "#7fbc41"
            ],
            [
             0.9,
             "#4d9221"
            ],
            [
             1,
             "#276419"
            ]
           ],
           "sequential": [
            [
             0,
             "#0d0887"
            ],
            [
             0.1111111111111111,
             "#46039f"
            ],
            [
             0.2222222222222222,
             "#7201a8"
            ],
            [
             0.3333333333333333,
             "#9c179e"
            ],
            [
             0.4444444444444444,
             "#bd3786"
            ],
            [
             0.5555555555555556,
             "#d8576b"
            ],
            [
             0.6666666666666666,
             "#ed7953"
            ],
            [
             0.7777777777777778,
             "#fb9f3a"
            ],
            [
             0.8888888888888888,
             "#fdca26"
            ],
            [
             1,
             "#f0f921"
            ]
           ],
           "sequentialminus": [
            [
             0,
             "#0d0887"
            ],
            [
             0.1111111111111111,
             "#46039f"
            ],
            [
             0.2222222222222222,
             "#7201a8"
            ],
            [
             0.3333333333333333,
             "#9c179e"
            ],
            [
             0.4444444444444444,
             "#bd3786"
            ],
            [
             0.5555555555555556,
             "#d8576b"
            ],
            [
             0.6666666666666666,
             "#ed7953"
            ],
            [
             0.7777777777777778,
             "#fb9f3a"
            ],
            [
             0.8888888888888888,
             "#fdca26"
            ],
            [
             1,
             "#f0f921"
            ]
           ]
          },
          "colorway": [
           "#636efa",
           "#EF553B",
           "#00cc96",
           "#ab63fa",
           "#FFA15A",
           "#19d3f3",
           "#FF6692",
           "#B6E880",
           "#FF97FF",
           "#FECB52"
          ],
          "font": {
           "color": "#2a3f5f"
          },
          "geo": {
           "bgcolor": "white",
           "lakecolor": "white",
           "landcolor": "#E5ECF6",
           "showlakes": true,
           "showland": true,
           "subunitcolor": "white"
          },
          "hoverlabel": {
           "align": "left"
          },
          "hovermode": "closest",
          "mapbox": {
           "style": "light"
          },
          "paper_bgcolor": "white",
          "plot_bgcolor": "#E5ECF6",
          "polar": {
           "angularaxis": {
            "gridcolor": "white",
            "linecolor": "white",
            "ticks": ""
           },
           "bgcolor": "#E5ECF6",
           "radialaxis": {
            "gridcolor": "white",
            "linecolor": "white",
            "ticks": ""
           }
          },
          "scene": {
           "xaxis": {
            "backgroundcolor": "#E5ECF6",
            "gridcolor": "white",
            "gridwidth": 2,
            "linecolor": "white",
            "showbackground": true,
            "ticks": "",
            "zerolinecolor": "white"
           },
           "yaxis": {
            "backgroundcolor": "#E5ECF6",
            "gridcolor": "white",
            "gridwidth": 2,
            "linecolor": "white",
            "showbackground": true,
            "ticks": "",
            "zerolinecolor": "white"
           },
           "zaxis": {
            "backgroundcolor": "#E5ECF6",
            "gridcolor": "white",
            "gridwidth": 2,
            "linecolor": "white",
            "showbackground": true,
            "ticks": "",
            "zerolinecolor": "white"
           }
          },
          "shapedefaults": {
           "line": {
            "color": "#2a3f5f"
           }
          },
          "ternary": {
           "aaxis": {
            "gridcolor": "white",
            "linecolor": "white",
            "ticks": ""
           },
           "baxis": {
            "gridcolor": "white",
            "linecolor": "white",
            "ticks": ""
           },
           "bgcolor": "#E5ECF6",
           "caxis": {
            "gridcolor": "white",
            "linecolor": "white",
            "ticks": ""
           }
          },
          "title": {
           "x": 0.05
          },
          "xaxis": {
           "automargin": true,
           "gridcolor": "white",
           "linecolor": "white",
           "ticks": "",
           "title": {
            "standoff": 15
           },
           "zerolinecolor": "white",
           "zerolinewidth": 2
          },
          "yaxis": {
           "automargin": true,
           "gridcolor": "white",
           "linecolor": "white",
           "ticks": "",
           "title": {
            "standoff": 15
           },
           "zerolinecolor": "white",
           "zerolinewidth": 2
          }
         }
        },
        "width": 900
       }
      }
     },
     "metadata": {},
     "output_type": "display_data"
    }
   ],
   "source": [
    "# List the columns that are continuous variables\n",
    "continuous_variables = ['Age', 'Stay', 'Japanese', 'English', 'ToDep', 'ToSC', 'APD', 'AHome', 'APH', 'Afear', 'ACS', 'AGuilt', 'AMiscell', 'ToAS', 'Partner', 'Friends', 'Parents', 'Relative', 'Profess', ' Phone', 'Doctor', 'Reli', 'Alone', 'Others', 'Internet']\n",
    "\n",
    "# Create a subset dataframe only the columns of the continous variables\n",
    "data_cont = students[continuous_variables]\n",
    "\n",
    "# Create a pearson correlation\n",
    "data_corr = data_cont.corr(method='pearson')\n",
    "\n",
    "# Build the Heatmap\n",
    "fig = go.Figure(go.Heatmap(\n",
    "    x=data_corr.columns, \n",
    "    y=data_corr.columns, \n",
    "    z=data_corr.values.tolist(), \n",
    "    zmin=-1, \n",
    "    zmax=1\n",
    "))\n",
    "\n",
    "# Adjust the plot size\n",
    "fig.update_layout(width=900, height=900)\n",
    "\n",
    "# Show the plot\n",
    "fig.show()"
   ]
  }
 ],
 "metadata": {
  "kernelspec": {
   "display_name": "base",
   "language": "python",
   "name": "python3"
  },
  "language_info": {
   "codemirror_mode": {
    "name": "ipython",
    "version": 3
   },
   "file_extension": ".py",
   "mimetype": "text/x-python",
   "name": "python",
   "nbconvert_exporter": "python",
   "pygments_lexer": "ipython3",
   "version": "3.11.7"
  }
 },
 "nbformat": 4,
 "nbformat_minor": 2
}
