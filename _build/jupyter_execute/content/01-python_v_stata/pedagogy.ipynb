{
 "cells": [
  {
   "cell_type": "markdown",
   "id": "c41e3963-887e-423e-8e3a-49d49122a0cd",
   "metadata": {},
   "source": [
    "# Economics Pedagogy"
   ]
  },
  {
   "cell_type": "markdown",
   "id": "3069aff8-c35a-42b7-a08c-8f8e0a45ea25",
   "metadata": {},
   "source": [
    "Both Python and Stata have been used to teach economics to students of all levels, from the beginner to the graduate students. They both have their advantages and disadvantages, some of which are discussed below."
   ]
  },
  {
   "cell_type": "markdown",
   "id": "b2017f83-5353-401d-8da3-2d6bae086953",
   "metadata": {},
   "source": [
    "## Learning Curve\n",
    "\n",
    "Students who have little to no experience in coding often find Stata's command-line interface easier to install and use. However, students with more experience in coding may be more familiar with Python and thus find that easier to use. At the end of the day, different students could find either of the softwares easier to learn, and the software you choose to use should consider the level of the students in your class."
   ]
  },
  {
   "cell_type": "markdown",
   "id": "5590927b-1191-4a2a-9c6a-c2fe15c85e11",
   "metadata": {},
   "source": [
    "## Accessibility\n",
    "\n",
    "Both Python and Jupyter notebooks are free and easily accessible, while Stata must be purchased. If your students do not have an instituional license for Stata, it may be more inclusive to use Python to avoid placing an undue financial burden on students. "
   ]
  },
  {
   "cell_type": "markdown",
   "id": "03140e78-8b1a-4e9e-bdd7-2bc2d1ff07d0",
   "metadata": {},
   "source": [
    "## Cloud Computing\n",
    "\n",
    "With the great integration between Jupyter Notebooks and Cloud Computing provided by tools such as [Google Colab](https://colab.research.google.com/), it is possible to easily share your Jupyter notebooks with all your students and have them run your code in real time. To share your Stata `.do` files with students, it may be best to upload them to a Google Drive folder and have your students download and run them locally. Students may then run into issues if they haven't locally installed all the packages/updated all computer paths in your code. These issues are avoided if you use a virtual environment where everyone has access to the same resources, such as Google Colab (more details can be found on Colab's [welcome page](https://colab.research.google.com/#scrollTo=GJBs_flRovLc))."
   ]
  },
  {
   "cell_type": "markdown",
   "id": "c8ca554f-7f28-407b-81c9-62ed88a8488a",
   "metadata": {},
   "source": [
    "## Autograding\n",
    "\n",
    "In both languages, you can view and grade the final output of student code. However, Stata `.do` files do not have any features to automatically grade the intermediate steps student take towards a solution. Python has a package called [Otter Grader](https://otter-grader.readthedocs.io/en/latest/), designed to help you grade the output of various code cells in Jupyter notebooks. Using Otter Grader, you can create various test cells that have their corresponding solutions and relevant tests. The package provides tests that are both visible to and hidden from students, enabling you to both guide students on the right track and check for correctness as necessary. \n",
    "\n",
    "Several UC Berkeley classes, including [Econ 148: Data Science for Economists](https://www.econ148.org), use Otter Grader along with [Gradescope](https://www.gradescope.com/) to automatically grade thousands of student submissions at once. However, you do not need a Gradescope license to use Otter Grader, Otter is a free package that can be used by anyone without any cost. Please look at the [Otter tutorial](https://otter-grader.readthedocs.io/en/latest/tutorial.html) for more information."
   ]
  },
  {
   "cell_type": "markdown",
   "id": "75b4a72a-aeef-42dd-b8c8-12af667ea0fe",
   "metadata": {},
   "source": [
    "## Textbooks\n",
    "\n",
    "While both Python and Stata have economics-specific textbooks, their styles and formats may differ. For Stata, the books are often traditional print books, such as [_An Introduction to Modern Econometrics Using Stata_](https://www.stata.com/bookstore/modern-econometrics-stata/). Students may be required to purchase a physical or digital copy of these textbooks in order to use them.\n",
    "\n",
    "Meanwhile, Python textbooks may be found online for free. For example, consider the online textbooks [_Coding for Economists_](https://aeturrell.github.io/coding-for-economists/intro.html), [_Causal Inference for The Brave and True_](https://matheusfacure.github.io/python-causality-handbook/landing-page.html), or [_Economic Networks_](https://networks.quantecon.org/). These textbooks may often include interactive code snippets that the students can try running on their own, and corresponding githubs where the students can see how the textbook was written. Such open access to the material offers greater reproducibility, an advantage over Stata."
   ]
  }
 ],
 "metadata": {
  "kernelspec": {
   "display_name": "Python [conda env:sklearn-env]",
   "language": "python",
   "name": "conda-env-sklearn-env-py"
  },
  "language_info": {
   "codemirror_mode": {
    "name": "ipython",
    "version": 3
   },
   "file_extension": ".py",
   "mimetype": "text/x-python",
   "name": "python",
   "nbconvert_exporter": "python",
   "pygments_lexer": "ipython3",
   "version": "3.11.0"
  }
 },
 "nbformat": 4,
 "nbformat_minor": 5
}